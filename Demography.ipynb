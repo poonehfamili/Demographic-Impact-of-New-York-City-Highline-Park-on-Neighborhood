{
 "cells": [
  {
   "cell_type": "code",
   "execution_count": 333,
   "metadata": {
    "collapsed": true
   },
   "outputs": [],
   "source": [
    "import numpy as np\n",
    "import pandas as pd\n",
    "from scipy.stats import chisquare\n",
    "from scipy.stats import ttest_ind\n",
    "from scipy.stats import ks_2samp"
   ]
  },
  {
   "cell_type": "code",
   "execution_count": 334,
   "metadata": {
    "collapsed": true
   },
   "outputs": [],
   "source": [
    "income00 = pd.read_csv('income per capita 2000.csv')"
   ]
  },
  {
   "cell_type": "code",
   "execution_count": 482,
   "metadata": {
    "collapsed": true
   },
   "outputs": [],
   "source": [
    "pop2005_march = pd.read_csv('population density 2005-march2.csv')"
   ]
  },
  {
   "cell_type": "code",
   "execution_count": 483,
   "metadata": {},
   "outputs": [
    {
     "data": {
      "text/plain": [
       "(296, 2)"
      ]
     },
     "execution_count": 483,
     "metadata": {},
     "output_type": "execute_result"
    }
   ],
   "source": [
    "pop2005_march.shape"
   ]
  },
  {
   "cell_type": "code",
   "execution_count": 488,
   "metadata": {
    "collapsed": true
   },
   "outputs": [],
   "source": [
    "pop2005_march.dropna(inplace = True)"
   ]
  },
  {
   "cell_type": "code",
   "execution_count": 490,
   "metadata": {},
   "outputs": [
    {
     "data": {
      "text/plain": [
       "Index([u'FIPS Code', u'Estimated population density between 2005-2009.'], dtype='object')"
      ]
     },
     "execution_count": 490,
     "metadata": {},
     "output_type": "execute_result"
    }
   ],
   "source": [
    "pop2005_march.columns"
   ]
  },
  {
   "cell_type": "code",
   "execution_count": 491,
   "metadata": {},
   "outputs": [
    {
     "data": {
      "text/plain": [
       "92032.41057432431"
      ]
     },
     "execution_count": 491,
     "metadata": {},
     "output_type": "execute_result"
    }
   ],
   "source": [
    "pop2005_march['Estimated population density between 2005-2009.'].mean()"
   ]
  },
  {
   "cell_type": "code",
   "execution_count": 493,
   "metadata": {
    "collapsed": true
   },
   "outputs": [],
   "source": [
    "pp2005 = pop2005_march[pop2005_march['Estimated population density between 2005-2009.']!=0]"
   ]
  },
  {
   "cell_type": "code",
   "execution_count": 494,
   "metadata": {},
   "outputs": [
    {
     "data": {
      "text/plain": [
       "94261.56930795847"
      ]
     },
     "execution_count": 494,
     "metadata": {},
     "output_type": "execute_result"
    }
   ],
   "source": [
    "pp2005['Estimated population density between 2005-2009.'].mean()"
   ]
  },
  {
   "cell_type": "code",
   "execution_count": 496,
   "metadata": {},
   "outputs": [],
   "source": [
    "pp2011 = pop2011_march[pop2011_march['Estimated population density between 2011-2015.']!=0]"
   ]
  },
  {
   "cell_type": "code",
   "execution_count": 498,
   "metadata": {},
   "outputs": [
    {
     "data": {
      "text/plain": [
       "89376.48597173145"
      ]
     },
     "execution_count": 498,
     "metadata": {},
     "output_type": "execute_result"
    }
   ],
   "source": [
    "pp2011['Estimated population density between 2011-2015.'].mean()"
   ]
  },
  {
   "cell_type": "code",
   "execution_count": 486,
   "metadata": {
    "collapsed": true
   },
   "outputs": [],
   "source": [
    "pop2011_march = pd.read_csv('pop density 2011-march 2nd.csv')"
   ]
  },
  {
   "cell_type": "code",
   "execution_count": 489,
   "metadata": {
    "collapsed": true
   },
   "outputs": [],
   "source": [
    "pop2011_march.dropna(inplace = True)"
   ]
  },
  {
   "cell_type": "code",
   "execution_count": 492,
   "metadata": {},
   "outputs": [
    {
     "data": {
      "text/plain": [
       "87824.81086805556"
      ]
     },
     "execution_count": 492,
     "metadata": {},
     "output_type": "execute_result"
    }
   ],
   "source": [
    "pop2011_march['Estimated population density between 2011-2015.'].mean()"
   ]
  },
  {
   "cell_type": "code",
   "execution_count": 487,
   "metadata": {},
   "outputs": [
    {
     "data": {
      "text/plain": [
       "(288, 2)"
      ]
     },
     "execution_count": 487,
     "metadata": {},
     "output_type": "execute_result"
    }
   ],
   "source": [
    "pop2011_march.shape"
   ]
  },
  {
   "cell_type": "code",
   "execution_count": 335,
   "metadata": {},
   "outputs": [
    {
     "data": {
      "text/html": [
       "<div>\n",
       "<table border=\"1\" class=\"dataframe\">\n",
       "  <thead>\n",
       "    <tr style=\"text-align: right;\">\n",
       "      <th></th>\n",
       "      <th>Census Tract</th>\n",
       "      <th>FIPS Code</th>\n",
       "      <th>Per capita income in 2000.</th>\n",
       "    </tr>\n",
       "  </thead>\n",
       "  <tbody>\n",
       "    <tr>\n",
       "      <th>0</th>\n",
       "      <td>36081091601, NY</td>\n",
       "      <td>3.608109e+10</td>\n",
       "      <td>31153.0</td>\n",
       "    </tr>\n",
       "    <tr>\n",
       "      <th>1</th>\n",
       "      <td>36081162200, NY</td>\n",
       "      <td>3.608116e+10</td>\n",
       "      <td>NaN</td>\n",
       "    </tr>\n",
       "    <tr>\n",
       "      <th>2</th>\n",
       "      <td>36081107202, NY</td>\n",
       "      <td>3.608111e+10</td>\n",
       "      <td>NaN</td>\n",
       "    </tr>\n",
       "    <tr>\n",
       "      <th>3</th>\n",
       "      <td>36085012803, NY</td>\n",
       "      <td>3.608501e+10</td>\n",
       "      <td>20646.0</td>\n",
       "    </tr>\n",
       "    <tr>\n",
       "      <th>4</th>\n",
       "      <td>36047070203, NY</td>\n",
       "      <td>3.604707e+10</td>\n",
       "      <td>NaN</td>\n",
       "    </tr>\n",
       "  </tbody>\n",
       "</table>\n",
       "</div>"
      ],
      "text/plain": [
       "      Census Tract     FIPS Code  Per capita income in 2000.\n",
       "0  36081091601, NY  3.608109e+10                     31153.0\n",
       "1  36081162200, NY  3.608116e+10                         NaN\n",
       "2  36081107202, NY  3.608111e+10                         NaN\n",
       "3  36085012803, NY  3.608501e+10                     20646.0\n",
       "4  36047070203, NY  3.604707e+10                         NaN"
      ]
     },
     "execution_count": 335,
     "metadata": {},
     "output_type": "execute_result"
    }
   ],
   "source": [
    "income00.head()"
   ]
  },
  {
   "cell_type": "code",
   "execution_count": 336,
   "metadata": {},
   "outputs": [
    {
     "data": {
      "text/plain": [
       "2218"
      ]
     },
     "execution_count": 336,
     "metadata": {},
     "output_type": "execute_result"
    }
   ],
   "source": [
    "len(income00['FIPS Code'].unique())"
   ]
  },
  {
   "cell_type": "code",
   "execution_count": 337,
   "metadata": {},
   "outputs": [],
   "source": [
    "income09 = pd.read_csv('income per capita 2005-2009.csv')"
   ]
  },
  {
   "cell_type": "code",
   "execution_count": 338,
   "metadata": {},
   "outputs": [
    {
     "data": {
      "text/plain": [
       "2218"
      ]
     },
     "execution_count": 338,
     "metadata": {},
     "output_type": "execute_result"
    }
   ],
   "source": [
    "len(income09['FIPS Code'].unique())"
   ]
  },
  {
   "cell_type": "code",
   "execution_count": 339,
   "metadata": {
    "collapsed": true
   },
   "outputs": [],
   "source": [
    "income15 = pd.read_csv('income per capita 2011-2015.csv')"
   ]
  },
  {
   "cell_type": "code",
   "execution_count": 340,
   "metadata": {},
   "outputs": [
    {
     "data": {
      "text/plain": [
       "(2179, 3)"
      ]
     },
     "execution_count": 340,
     "metadata": {},
     "output_type": "execute_result"
    }
   ],
   "source": [
    "income15.shape"
   ]
  },
  {
   "cell_type": "code",
   "execution_count": 341,
   "metadata": {},
   "outputs": [
    {
     "data": {
      "text/plain": [
       "2169"
      ]
     },
     "execution_count": 341,
     "metadata": {},
     "output_type": "execute_result"
    }
   ],
   "source": [
    "len(income15['FIPS Code'].unique())"
   ]
  },
  {
   "cell_type": "code",
   "execution_count": 342,
   "metadata": {
    "collapsed": true
   },
   "outputs": [],
   "source": [
    "age09 = pd.read_csv('median age 2005-2009.csv')"
   ]
  },
  {
   "cell_type": "code",
   "execution_count": 343,
   "metadata": {
    "collapsed": true
   },
   "outputs": [],
   "source": [
    "age15 = pd.read_csv('median age 2011-2015.csv')"
   ]
  },
  {
   "cell_type": "code",
   "execution_count": 344,
   "metadata": {
    "collapsed": true
   },
   "outputs": [],
   "source": [
    "race00 = pd.read_csv('percent of white 2000.csv')"
   ]
  },
  {
   "cell_type": "code",
   "execution_count": 345,
   "metadata": {
    "collapsed": true
   },
   "outputs": [],
   "source": [
    "race09 = pd.read_csv('percent of white 2005-2009.csv')"
   ]
  },
  {
   "cell_type": "code",
   "execution_count": 346,
   "metadata": {
    "collapsed": true
   },
   "outputs": [],
   "source": [
    "race15 = pd.read_csv('percent of white 2011-2015.csv')"
   ]
  },
  {
   "cell_type": "code",
   "execution_count": 447,
   "metadata": {
    "collapsed": true
   },
   "outputs": [],
   "source": [
    "pop09 = pd.read_csv('population density 2005-2009.csv')"
   ]
  },
  {
   "cell_type": "code",
   "execution_count": 484,
   "metadata": {},
   "outputs": [
    {
     "data": {
      "text/plain": [
       "(2228, 3)"
      ]
     },
     "execution_count": 484,
     "metadata": {},
     "output_type": "execute_result"
    }
   ],
   "source": [
    "pop09.shape\n"
   ]
  },
  {
   "cell_type": "code",
   "execution_count": 451,
   "metadata": {},
   "outputs": [],
   "source": [
    "pop09['Estimated population density between 2005-2009.'].dropna(inplace = True)"
   ]
  },
  {
   "cell_type": "code",
   "execution_count": 452,
   "metadata": {},
   "outputs": [
    {
     "data": {
      "text/plain": [
       "48971.93515794232"
      ]
     },
     "execution_count": 452,
     "metadata": {},
     "output_type": "execute_result"
    }
   ],
   "source": [
    "pop09['Estimated population density between 2005-2009.'].mean()"
   ]
  },
  {
   "cell_type": "code",
   "execution_count": 455,
   "metadata": {},
   "outputs": [
    {
     "data": {
      "text/html": [
       "<div>\n",
       "<table border=\"1\" class=\"dataframe\">\n",
       "  <thead>\n",
       "    <tr style=\"text-align: right;\">\n",
       "      <th></th>\n",
       "      <th>Census Tract</th>\n",
       "      <th>FIPS Code</th>\n",
       "      <th>Estimated population density between 2011-2015.</th>\n",
       "    </tr>\n",
       "  </thead>\n",
       "  <tbody>\n",
       "    <tr>\n",
       "      <th>0</th>\n",
       "      <td>36081990100, NY</td>\n",
       "      <td>3.608199e+10</td>\n",
       "      <td>NaN</td>\n",
       "    </tr>\n",
       "    <tr>\n",
       "      <th>1</th>\n",
       "      <td>36085990100, NY</td>\n",
       "      <td>3.608599e+10</td>\n",
       "      <td>NaN</td>\n",
       "    </tr>\n",
       "    <tr>\n",
       "      <th>2</th>\n",
       "      <td>36081107202, NY</td>\n",
       "      <td>3.608111e+10</td>\n",
       "      <td>0.0</td>\n",
       "    </tr>\n",
       "    <tr>\n",
       "      <th>3</th>\n",
       "      <td>36047070203, NY</td>\n",
       "      <td>3.604707e+10</td>\n",
       "      <td>0.0</td>\n",
       "    </tr>\n",
       "    <tr>\n",
       "      <th>4</th>\n",
       "      <td>36081071600, NY</td>\n",
       "      <td>3.608107e+10</td>\n",
       "      <td>0.0</td>\n",
       "    </tr>\n",
       "  </tbody>\n",
       "</table>\n",
       "</div>"
      ],
      "text/plain": [
       "      Census Tract     FIPS Code  \\\n",
       "0  36081990100, NY  3.608199e+10   \n",
       "1  36085990100, NY  3.608599e+10   \n",
       "2  36081107202, NY  3.608111e+10   \n",
       "3  36047070203, NY  3.604707e+10   \n",
       "4  36081071600, NY  3.608107e+10   \n",
       "\n",
       "   Estimated population density between 2011-2015.  \n",
       "0                                              NaN  \n",
       "1                                              NaN  \n",
       "2                                              0.0  \n",
       "3                                              0.0  \n",
       "4                                              0.0  "
      ]
     },
     "execution_count": 455,
     "metadata": {},
     "output_type": "execute_result"
    }
   ],
   "source": [
    "pop15 = pd.read_csv('population density 2011-2015.csv')\n",
    "pop15.head()"
   ]
  },
  {
   "cell_type": "code",
   "execution_count": 462,
   "metadata": {},
   "outputs": [
    {
     "data": {
      "text/plain": [
       "(2179, 3)"
      ]
     },
     "execution_count": 462,
     "metadata": {},
     "output_type": "execute_result"
    }
   ],
   "source": [
    "pop15.shape"
   ]
  },
  {
   "cell_type": "code",
   "execution_count": 456,
   "metadata": {
    "collapsed": true
   },
   "outputs": [],
   "source": [
    "pop15['Estimated population density between 2011-2015.'].dropna(inplace = True)"
   ]
  },
  {
   "cell_type": "code",
   "execution_count": 457,
   "metadata": {},
   "outputs": [
    {
     "data": {
      "text/plain": [
       "50575.89474121997"
      ]
     },
     "execution_count": 457,
     "metadata": {},
     "output_type": "execute_result"
    }
   ],
   "source": [
    "pop15['Estimated population density between 2011-2015.'].mean()"
   ]
  },
  {
   "cell_type": "code",
   "execution_count": 428,
   "metadata": {
    "collapsed": true
   },
   "outputs": [],
   "source": [
    "pop_age00 = pd.read_csv('population density and median age 2000.csv')"
   ]
  },
  {
   "cell_type": "code",
   "execution_count": 460,
   "metadata": {},
   "outputs": [],
   "source": [
    "pop_age00['population density'].dropna(inplace = True)"
   ]
  },
  {
   "cell_type": "code",
   "execution_count": 461,
   "metadata": {},
   "outputs": [
    {
     "data": {
      "text/plain": [
       "87561.98699507432"
      ]
     },
     "execution_count": 461,
     "metadata": {},
     "output_type": "execute_result"
    }
   ],
   "source": [
    "pop_age00['population density'].mean()"
   ]
  },
  {
   "cell_type": "code",
   "execution_count": 463,
   "metadata": {},
   "outputs": [
    {
     "data": {
      "text/plain": [
       "(296, 3)"
      ]
     },
     "execution_count": 463,
     "metadata": {},
     "output_type": "execute_result"
    }
   ],
   "source": [
    "pop_age00.shape"
   ]
  },
  {
   "cell_type": "code",
   "execution_count": 430,
   "metadata": {
    "collapsed": true
   },
   "outputs": [],
   "source": [
    "pop_ = pop09.merge(pop15, on ='FIPS Code' )"
   ]
  },
  {
   "cell_type": "code",
   "execution_count": 431,
   "metadata": {},
   "outputs": [],
   "source": [
    "pop = pop_.merge(pop_age00, on = 'FIPS Code')\n",
    "\n",
    "pop = pop[[\"FIPS Code\", \"Estimated population density between 2005-2009.\", \"Estimated population density between 2011-2015.\",\n",
    "           \"population density\"]]"
   ]
  },
  {
   "cell_type": "code",
   "execution_count": 432,
   "metadata": {},
   "outputs": [
    {
     "data": {
      "text/html": [
       "<div>\n",
       "<table border=\"1\" class=\"dataframe\">\n",
       "  <thead>\n",
       "    <tr style=\"text-align: right;\">\n",
       "      <th></th>\n",
       "      <th>Census Tract_x</th>\n",
       "      <th>FIPS Code</th>\n",
       "      <th>Estimated typical (median) age of all people between 2005-2009.</th>\n",
       "      <th>Census Tract_y</th>\n",
       "      <th>Estimated typical (median) age of all people between 2011-2015.</th>\n",
       "      <th>population density</th>\n",
       "      <th>median age</th>\n",
       "    </tr>\n",
       "  </thead>\n",
       "  <tbody>\n",
       "    <tr>\n",
       "      <th>0</th>\n",
       "      <td>36061031900, NY</td>\n",
       "      <td>3.606103e+10</td>\n",
       "      <td>36.0</td>\n",
       "      <td>36061031900, NY</td>\n",
       "      <td>NaN</td>\n",
       "      <td>1660.58200</td>\n",
       "      <td>32.5</td>\n",
       "    </tr>\n",
       "    <tr>\n",
       "      <th>1</th>\n",
       "      <td>36061024000, NY</td>\n",
       "      <td>3.606102e+10</td>\n",
       "      <td>42.0</td>\n",
       "      <td>36061024000, NY</td>\n",
       "      <td>47.0</td>\n",
       "      <td>1631.78700</td>\n",
       "      <td>39.4</td>\n",
       "    </tr>\n",
       "    <tr>\n",
       "      <th>2</th>\n",
       "      <td>36061014300, NY</td>\n",
       "      <td>3.606101e+10</td>\n",
       "      <td>NaN</td>\n",
       "      <td>36061014300, NY</td>\n",
       "      <td>NaN</td>\n",
       "      <td>14.75448</td>\n",
       "      <td>38.5</td>\n",
       "    </tr>\n",
       "    <tr>\n",
       "      <th>3</th>\n",
       "      <td>36061029700, NY</td>\n",
       "      <td>3.606103e+10</td>\n",
       "      <td>NaN</td>\n",
       "      <td>36061029700, NY</td>\n",
       "      <td>NaN</td>\n",
       "      <td>0.00000</td>\n",
       "      <td>0.0</td>\n",
       "    </tr>\n",
       "    <tr>\n",
       "      <th>4</th>\n",
       "      <td>36061002400, NY</td>\n",
       "      <td>3.606100e+10</td>\n",
       "      <td>35.0</td>\n",
       "      <td>36061002400, NY</td>\n",
       "      <td>43.0</td>\n",
       "      <td>52187.88000</td>\n",
       "      <td>31.7</td>\n",
       "    </tr>\n",
       "    <tr>\n",
       "      <th>5</th>\n",
       "      <td>36061009900, NY</td>\n",
       "      <td>3.606101e+10</td>\n",
       "      <td>38.0</td>\n",
       "      <td>36061009900, NY</td>\n",
       "      <td>33.0</td>\n",
       "      <td>3895.73300</td>\n",
       "      <td>36.5</td>\n",
       "    </tr>\n",
       "    <tr>\n",
       "      <th>6</th>\n",
       "      <td>36061031100, NY</td>\n",
       "      <td>3.606103e+10</td>\n",
       "      <td>NaN</td>\n",
       "      <td>36061031100, NY</td>\n",
       "      <td>NaN</td>\n",
       "      <td>70.52879</td>\n",
       "      <td>46.5</td>\n",
       "    </tr>\n",
       "    <tr>\n",
       "      <th>7</th>\n",
       "      <td>36061000500, NY</td>\n",
       "      <td>3.606100e+10</td>\n",
       "      <td>NaN</td>\n",
       "      <td>36061000500, NY</td>\n",
       "      <td>NaN</td>\n",
       "      <td>5.88095</td>\n",
       "      <td>26.5</td>\n",
       "    </tr>\n",
       "    <tr>\n",
       "      <th>8</th>\n",
       "      <td>36061015100, NY</td>\n",
       "      <td>3.606102e+10</td>\n",
       "      <td>34.0</td>\n",
       "      <td>36061015100, NY</td>\n",
       "      <td>38.0</td>\n",
       "      <td>39130.04000</td>\n",
       "      <td>32.3</td>\n",
       "    </tr>\n",
       "    <tr>\n",
       "      <th>9</th>\n",
       "      <td>36061024302, NY</td>\n",
       "      <td>3.606102e+10</td>\n",
       "      <td>24.0</td>\n",
       "      <td>36061024302, NY</td>\n",
       "      <td>33.0</td>\n",
       "      <td>83366.31000</td>\n",
       "      <td>30.0</td>\n",
       "    </tr>\n",
       "    <tr>\n",
       "      <th>10</th>\n",
       "      <td>36061023600, NY</td>\n",
       "      <td>3.606102e+10</td>\n",
       "      <td>42.0</td>\n",
       "      <td>36061023600, NY</td>\n",
       "      <td>35.0</td>\n",
       "      <td>51828.19000</td>\n",
       "      <td>40.4</td>\n",
       "    </tr>\n",
       "    <tr>\n",
       "      <th>11</th>\n",
       "      <td>36061028700, NY</td>\n",
       "      <td>3.606103e+10</td>\n",
       "      <td>34.0</td>\n",
       "      <td>36061028700, NY</td>\n",
       "      <td>36.0</td>\n",
       "      <td>28106.15000</td>\n",
       "      <td>31.9</td>\n",
       "    </tr>\n",
       "    <tr>\n",
       "      <th>12</th>\n",
       "      <td>36061000202, NY</td>\n",
       "      <td>3.606100e+10</td>\n",
       "      <td>42.0</td>\n",
       "      <td>36061000202, NY</td>\n",
       "      <td>46.0</td>\n",
       "      <td>37305.31000</td>\n",
       "      <td>43.7</td>\n",
       "    </tr>\n",
       "    <tr>\n",
       "      <th>13</th>\n",
       "      <td>36061003300, NY</td>\n",
       "      <td>3.606100e+10</td>\n",
       "      <td>37.0</td>\n",
       "      <td>36061003300, NY</td>\n",
       "      <td>36.0</td>\n",
       "      <td>27706.50000</td>\n",
       "      <td>37.3</td>\n",
       "    </tr>\n",
       "    <tr>\n",
       "      <th>14</th>\n",
       "      <td>36061012900, NY</td>\n",
       "      <td>3.606101e+10</td>\n",
       "      <td>36.0</td>\n",
       "      <td>36061012900, NY</td>\n",
       "      <td>35.0</td>\n",
       "      <td>38473.20000</td>\n",
       "      <td>33.4</td>\n",
       "    </tr>\n",
       "    <tr>\n",
       "      <th>15</th>\n",
       "      <td>36061013500, NY</td>\n",
       "      <td>3.606101e+10</td>\n",
       "      <td>37.0</td>\n",
       "      <td>36061013500, NY</td>\n",
       "      <td>42.0</td>\n",
       "      <td>28869.53000</td>\n",
       "      <td>38.7</td>\n",
       "    </tr>\n",
       "    <tr>\n",
       "      <th>16</th>\n",
       "      <td>36061002900, NY</td>\n",
       "      <td>3.606100e+10</td>\n",
       "      <td>46.0</td>\n",
       "      <td>36061002900, NY</td>\n",
       "      <td>44.0</td>\n",
       "      <td>62553.13000</td>\n",
       "      <td>40.5</td>\n",
       "    </tr>\n",
       "    <tr>\n",
       "      <th>17</th>\n",
       "      <td>36061030900, NY</td>\n",
       "      <td>3.606103e+10</td>\n",
       "      <td>29.0</td>\n",
       "      <td>36061030900, NY</td>\n",
       "      <td>34.0</td>\n",
       "      <td>66082.12000</td>\n",
       "      <td>31.4</td>\n",
       "    </tr>\n",
       "    <tr>\n",
       "      <th>18</th>\n",
       "      <td>36061001300, NY</td>\n",
       "      <td>3.606100e+10</td>\n",
       "      <td>31.0</td>\n",
       "      <td>36061001300, NY</td>\n",
       "      <td>31.0</td>\n",
       "      <td>13210.25000</td>\n",
       "      <td>31.7</td>\n",
       "    </tr>\n",
       "    <tr>\n",
       "      <th>19</th>\n",
       "      <td>36061016200, NY</td>\n",
       "      <td>3.606102e+10</td>\n",
       "      <td>33.0</td>\n",
       "      <td>36061016200, NY</td>\n",
       "      <td>36.0</td>\n",
       "      <td>99453.44000</td>\n",
       "      <td>32.2</td>\n",
       "    </tr>\n",
       "    <tr>\n",
       "      <th>20</th>\n",
       "      <td>36061021000, NY</td>\n",
       "      <td>3.606102e+10</td>\n",
       "      <td>38.0</td>\n",
       "      <td>36061021000, NY</td>\n",
       "      <td>32.0</td>\n",
       "      <td>85925.55000</td>\n",
       "      <td>38.0</td>\n",
       "    </tr>\n",
       "    <tr>\n",
       "      <th>21</th>\n",
       "      <td>36061003900, NY</td>\n",
       "      <td>3.606100e+10</td>\n",
       "      <td>41.0</td>\n",
       "      <td>36061003900, NY</td>\n",
       "      <td>38.0</td>\n",
       "      <td>40955.07000</td>\n",
       "      <td>43.0</td>\n",
       "    </tr>\n",
       "    <tr>\n",
       "      <th>22</th>\n",
       "      <td>36061018900, NY</td>\n",
       "      <td>3.606102e+10</td>\n",
       "      <td>36.0</td>\n",
       "      <td>36061018900, NY</td>\n",
       "      <td>41.0</td>\n",
       "      <td>116937.70000</td>\n",
       "      <td>36.8</td>\n",
       "    </tr>\n",
       "    <tr>\n",
       "      <th>23</th>\n",
       "      <td>36061017800, NY</td>\n",
       "      <td>3.606102e+10</td>\n",
       "      <td>34.0</td>\n",
       "      <td>36061017800, NY</td>\n",
       "      <td>32.0</td>\n",
       "      <td>39988.36000</td>\n",
       "      <td>30.5</td>\n",
       "    </tr>\n",
       "    <tr>\n",
       "      <th>24</th>\n",
       "      <td>36061002100, NY</td>\n",
       "      <td>3.606100e+10</td>\n",
       "      <td>34.0</td>\n",
       "      <td>36061002100, NY</td>\n",
       "      <td>35.0</td>\n",
       "      <td>26120.94000</td>\n",
       "      <td>34.7</td>\n",
       "    </tr>\n",
       "    <tr>\n",
       "      <th>25</th>\n",
       "      <td>36061021900, NY</td>\n",
       "      <td>3.606102e+10</td>\n",
       "      <td>32.0</td>\n",
       "      <td>36061021900, NY</td>\n",
       "      <td>31.0</td>\n",
       "      <td>69573.72000</td>\n",
       "      <td>30.7</td>\n",
       "    </tr>\n",
       "    <tr>\n",
       "      <th>26</th>\n",
       "      <td>36061019701, NY</td>\n",
       "      <td>3.606102e+10</td>\n",
       "      <td>32.0</td>\n",
       "      <td>36061019701, NY</td>\n",
       "      <td>36.0</td>\n",
       "      <td>264.43820</td>\n",
       "      <td>39.5</td>\n",
       "    </tr>\n",
       "    <tr>\n",
       "      <th>27</th>\n",
       "      <td>36061019800, NY</td>\n",
       "      <td>3.606102e+10</td>\n",
       "      <td>39.0</td>\n",
       "      <td>36061019800, NY</td>\n",
       "      <td>43.0</td>\n",
       "      <td>17405.11000</td>\n",
       "      <td>39.8</td>\n",
       "    </tr>\n",
       "    <tr>\n",
       "      <th>28</th>\n",
       "      <td>36061013700, NY</td>\n",
       "      <td>3.606101e+10</td>\n",
       "      <td>45.0</td>\n",
       "      <td>36061013700, NY</td>\n",
       "      <td>38.0</td>\n",
       "      <td>80759.27000</td>\n",
       "      <td>40.5</td>\n",
       "    </tr>\n",
       "    <tr>\n",
       "      <th>29</th>\n",
       "      <td>36061013600, NY</td>\n",
       "      <td>3.606101e+10</td>\n",
       "      <td>40.0</td>\n",
       "      <td>36061013600, NY</td>\n",
       "      <td>38.0</td>\n",
       "      <td>169927.10000</td>\n",
       "      <td>38.7</td>\n",
       "    </tr>\n",
       "    <tr>\n",
       "      <th>...</th>\n",
       "      <td>...</td>\n",
       "      <td>...</td>\n",
       "      <td>...</td>\n",
       "      <td>...</td>\n",
       "      <td>...</td>\n",
       "      <td>...</td>\n",
       "      <td>...</td>\n",
       "    </tr>\n",
       "    <tr>\n",
       "      <th>239</th>\n",
       "      <td>36061014700, NY</td>\n",
       "      <td>3.606101e+10</td>\n",
       "      <td>34.0</td>\n",
       "      <td>36061014700, NY</td>\n",
       "      <td>34.0</td>\n",
       "      <td>67623.16000</td>\n",
       "      <td>26.9</td>\n",
       "    </tr>\n",
       "    <tr>\n",
       "      <th>240</th>\n",
       "      <td>36061004200, NY</td>\n",
       "      <td>3.606100e+10</td>\n",
       "      <td>30.0</td>\n",
       "      <td>36061004200, NY</td>\n",
       "      <td>23.0</td>\n",
       "      <td>120123.00000</td>\n",
       "      <td>28.1</td>\n",
       "    </tr>\n",
       "    <tr>\n",
       "      <th>241</th>\n",
       "      <td>36061020102, NY</td>\n",
       "      <td>3.606102e+10</td>\n",
       "      <td>30.0</td>\n",
       "      <td>36061020102, NY</td>\n",
       "      <td>33.0</td>\n",
       "      <td>109129.50000</td>\n",
       "      <td>31.6</td>\n",
       "    </tr>\n",
       "    <tr>\n",
       "      <th>242</th>\n",
       "      <td>36061030700, NY</td>\n",
       "      <td>3.606103e+10</td>\n",
       "      <td>41.0</td>\n",
       "      <td>36061030700, NY</td>\n",
       "      <td>43.0</td>\n",
       "      <td>120905.20000</td>\n",
       "      <td>36.9</td>\n",
       "    </tr>\n",
       "    <tr>\n",
       "      <th>243</th>\n",
       "      <td>36061000100, NY</td>\n",
       "      <td>3.606100e+10</td>\n",
       "      <td>NaN</td>\n",
       "      <td>36061000100, NY</td>\n",
       "      <td>NaN</td>\n",
       "      <td>0.00000</td>\n",
       "      <td>0.0</td>\n",
       "    </tr>\n",
       "    <tr>\n",
       "      <th>244</th>\n",
       "      <td>36061011201, NY</td>\n",
       "      <td>3.606101e+10</td>\n",
       "      <td>55.0</td>\n",
       "      <td>36061011201, NY</td>\n",
       "      <td>53.0</td>\n",
       "      <td>36831.52000</td>\n",
       "      <td>45.2</td>\n",
       "    </tr>\n",
       "    <tr>\n",
       "      <th>245</th>\n",
       "      <td>36061003002, NY</td>\n",
       "      <td>3.606100e+10</td>\n",
       "      <td>39.0</td>\n",
       "      <td>36061003002, NY</td>\n",
       "      <td>41.0</td>\n",
       "      <td>100415.40000</td>\n",
       "      <td>34.6</td>\n",
       "    </tr>\n",
       "    <tr>\n",
       "      <th>246</th>\n",
       "      <td>36061011202, NY</td>\n",
       "      <td>3.606101e+10</td>\n",
       "      <td>61.0</td>\n",
       "      <td>36061011202, NY</td>\n",
       "      <td>51.0</td>\n",
       "      <td>12707.00000</td>\n",
       "      <td>54.8</td>\n",
       "    </tr>\n",
       "    <tr>\n",
       "      <th>247</th>\n",
       "      <td>36061011203, NY</td>\n",
       "      <td>3.606101e+10</td>\n",
       "      <td>50.0</td>\n",
       "      <td>36061011203, NY</td>\n",
       "      <td>39.0</td>\n",
       "      <td>43224.45000</td>\n",
       "      <td>47.4</td>\n",
       "    </tr>\n",
       "    <tr>\n",
       "      <th>248</th>\n",
       "      <td>36061014601, NY</td>\n",
       "      <td>3.606101e+10</td>\n",
       "      <td>33.0</td>\n",
       "      <td>36061014601, NY</td>\n",
       "      <td>33.0</td>\n",
       "      <td>135247.20000</td>\n",
       "      <td>32.7</td>\n",
       "    </tr>\n",
       "    <tr>\n",
       "      <th>249</th>\n",
       "      <td>36061014401, NY</td>\n",
       "      <td>3.606101e+10</td>\n",
       "      <td>40.0</td>\n",
       "      <td>36061014401, NY</td>\n",
       "      <td>45.0</td>\n",
       "      <td>184357.80000</td>\n",
       "      <td>41.5</td>\n",
       "    </tr>\n",
       "    <tr>\n",
       "      <th>250</th>\n",
       "      <td>36061015601, NY</td>\n",
       "      <td>3.606102e+10</td>\n",
       "      <td>32.0</td>\n",
       "      <td>36061015601, NY</td>\n",
       "      <td>33.0</td>\n",
       "      <td>189116.10000</td>\n",
       "      <td>29.1</td>\n",
       "    </tr>\n",
       "    <tr>\n",
       "      <th>251</th>\n",
       "      <td>36061000201, NY</td>\n",
       "      <td>3.606100e+10</td>\n",
       "      <td>39.0</td>\n",
       "      <td>36061000201, NY</td>\n",
       "      <td>41.0</td>\n",
       "      <td>132252.50000</td>\n",
       "      <td>33.4</td>\n",
       "    </tr>\n",
       "    <tr>\n",
       "      <th>252</th>\n",
       "      <td>36061028100, NY</td>\n",
       "      <td>3.606103e+10</td>\n",
       "      <td>41.0</td>\n",
       "      <td>36061028100, NY</td>\n",
       "      <td>41.0</td>\n",
       "      <td>108991.10000</td>\n",
       "      <td>43.2</td>\n",
       "    </tr>\n",
       "    <tr>\n",
       "      <th>253</th>\n",
       "      <td>36061023900, NY</td>\n",
       "      <td>3.606102e+10</td>\n",
       "      <td>35.0</td>\n",
       "      <td>36061023900, NY</td>\n",
       "      <td>36.0</td>\n",
       "      <td>109015.40000</td>\n",
       "      <td>33.8</td>\n",
       "    </tr>\n",
       "    <tr>\n",
       "      <th>254</th>\n",
       "      <td>36061024900, NY</td>\n",
       "      <td>3.606102e+10</td>\n",
       "      <td>25.0</td>\n",
       "      <td>36061024900, NY</td>\n",
       "      <td>34.0</td>\n",
       "      <td>48705.48000</td>\n",
       "      <td>31.5</td>\n",
       "    </tr>\n",
       "    <tr>\n",
       "      <th>255</th>\n",
       "      <td>36061002700, NY</td>\n",
       "      <td>3.606100e+10</td>\n",
       "      <td>39.0</td>\n",
       "      <td>36061002700, NY</td>\n",
       "      <td>46.0</td>\n",
       "      <td>65478.07000</td>\n",
       "      <td>46.2</td>\n",
       "    </tr>\n",
       "    <tr>\n",
       "      <th>256</th>\n",
       "      <td>36061002202, NY</td>\n",
       "      <td>3.606100e+10</td>\n",
       "      <td>32.0</td>\n",
       "      <td>36061002202, NY</td>\n",
       "      <td>34.0</td>\n",
       "      <td>67195.02000</td>\n",
       "      <td>31.4</td>\n",
       "    </tr>\n",
       "    <tr>\n",
       "      <th>257</th>\n",
       "      <td>36061001001, NY</td>\n",
       "      <td>3.606100e+10</td>\n",
       "      <td>47.0</td>\n",
       "      <td>36061001001, NY</td>\n",
       "      <td>45.0</td>\n",
       "      <td>61497.47000</td>\n",
       "      <td>49.5</td>\n",
       "    </tr>\n",
       "    <tr>\n",
       "      <th>258</th>\n",
       "      <td>36061020101, NY</td>\n",
       "      <td>3.606102e+10</td>\n",
       "      <td>22.0</td>\n",
       "      <td>36061020101, NY</td>\n",
       "      <td>22.0</td>\n",
       "      <td>105177.90000</td>\n",
       "      <td>21.3</td>\n",
       "    </tr>\n",
       "    <tr>\n",
       "      <th>259</th>\n",
       "      <td>36061014801, NY</td>\n",
       "      <td>3.606101e+10</td>\n",
       "      <td>40.0</td>\n",
       "      <td>36061014801, NY</td>\n",
       "      <td>39.0</td>\n",
       "      <td>145907.00000</td>\n",
       "      <td>39.0</td>\n",
       "    </tr>\n",
       "    <tr>\n",
       "      <th>260</th>\n",
       "      <td>36061015001, NY</td>\n",
       "      <td>3.606102e+10</td>\n",
       "      <td>41.0</td>\n",
       "      <td>36061015001, NY</td>\n",
       "      <td>53.0</td>\n",
       "      <td>111082.10000</td>\n",
       "      <td>44.0</td>\n",
       "    </tr>\n",
       "    <tr>\n",
       "      <th>261</th>\n",
       "      <td>36061015802, NY</td>\n",
       "      <td>3.606102e+10</td>\n",
       "      <td>31.0</td>\n",
       "      <td>36061015802, NY</td>\n",
       "      <td>30.0</td>\n",
       "      <td>164465.00000</td>\n",
       "      <td>34.9</td>\n",
       "    </tr>\n",
       "    <tr>\n",
       "      <th>262</th>\n",
       "      <td>36061016002, NY</td>\n",
       "      <td>3.606102e+10</td>\n",
       "      <td>36.0</td>\n",
       "      <td>36061016002, NY</td>\n",
       "      <td>31.0</td>\n",
       "      <td>162939.60000</td>\n",
       "      <td>35.5</td>\n",
       "    </tr>\n",
       "    <tr>\n",
       "      <th>263</th>\n",
       "      <td>36061017402, NY</td>\n",
       "      <td>3.606102e+10</td>\n",
       "      <td>26.0</td>\n",
       "      <td>36061017402, NY</td>\n",
       "      <td>31.0</td>\n",
       "      <td>109894.80000</td>\n",
       "      <td>30.6</td>\n",
       "    </tr>\n",
       "    <tr>\n",
       "      <th>264</th>\n",
       "      <td>36061019702, NY</td>\n",
       "      <td>3.606102e+10</td>\n",
       "      <td>35.0</td>\n",
       "      <td>36061019702, NY</td>\n",
       "      <td>37.0</td>\n",
       "      <td>118807.80000</td>\n",
       "      <td>34.7</td>\n",
       "    </tr>\n",
       "    <tr>\n",
       "      <th>265</th>\n",
       "      <td>36061020701, NY</td>\n",
       "      <td>3.606102e+10</td>\n",
       "      <td>28.0</td>\n",
       "      <td>36061020701, NY</td>\n",
       "      <td>28.0</td>\n",
       "      <td>141859.20000</td>\n",
       "      <td>29.9</td>\n",
       "    </tr>\n",
       "    <tr>\n",
       "      <th>266</th>\n",
       "      <td>36061026700, NY</td>\n",
       "      <td>3.606103e+10</td>\n",
       "      <td>22.0</td>\n",
       "      <td>36061026700, NY</td>\n",
       "      <td>24.0</td>\n",
       "      <td>107582.80000</td>\n",
       "      <td>26.3</td>\n",
       "    </tr>\n",
       "    <tr>\n",
       "      <th>267</th>\n",
       "      <td>36061022302, NY</td>\n",
       "      <td>3.606102e+10</td>\n",
       "      <td>33.0</td>\n",
       "      <td>36061022302, NY</td>\n",
       "      <td>34.0</td>\n",
       "      <td>229783.00000</td>\n",
       "      <td>33.0</td>\n",
       "    </tr>\n",
       "    <tr>\n",
       "      <th>268</th>\n",
       "      <td>36061023502, NY</td>\n",
       "      <td>3.606102e+10</td>\n",
       "      <td>29.0</td>\n",
       "      <td>36061023502, NY</td>\n",
       "      <td>31.0</td>\n",
       "      <td>121733.00000</td>\n",
       "      <td>30.3</td>\n",
       "    </tr>\n",
       "  </tbody>\n",
       "</table>\n",
       "<p>269 rows × 7 columns</p>\n",
       "</div>"
      ],
      "text/plain": [
       "      Census Tract_x     FIPS Code  \\\n",
       "0    36061031900, NY  3.606103e+10   \n",
       "1    36061024000, NY  3.606102e+10   \n",
       "2    36061014300, NY  3.606101e+10   \n",
       "3    36061029700, NY  3.606103e+10   \n",
       "4    36061002400, NY  3.606100e+10   \n",
       "5    36061009900, NY  3.606101e+10   \n",
       "6    36061031100, NY  3.606103e+10   \n",
       "7    36061000500, NY  3.606100e+10   \n",
       "8    36061015100, NY  3.606102e+10   \n",
       "9    36061024302, NY  3.606102e+10   \n",
       "10   36061023600, NY  3.606102e+10   \n",
       "11   36061028700, NY  3.606103e+10   \n",
       "12   36061000202, NY  3.606100e+10   \n",
       "13   36061003300, NY  3.606100e+10   \n",
       "14   36061012900, NY  3.606101e+10   \n",
       "15   36061013500, NY  3.606101e+10   \n",
       "16   36061002900, NY  3.606100e+10   \n",
       "17   36061030900, NY  3.606103e+10   \n",
       "18   36061001300, NY  3.606100e+10   \n",
       "19   36061016200, NY  3.606102e+10   \n",
       "20   36061021000, NY  3.606102e+10   \n",
       "21   36061003900, NY  3.606100e+10   \n",
       "22   36061018900, NY  3.606102e+10   \n",
       "23   36061017800, NY  3.606102e+10   \n",
       "24   36061002100, NY  3.606100e+10   \n",
       "25   36061021900, NY  3.606102e+10   \n",
       "26   36061019701, NY  3.606102e+10   \n",
       "27   36061019800, NY  3.606102e+10   \n",
       "28   36061013700, NY  3.606101e+10   \n",
       "29   36061013600, NY  3.606101e+10   \n",
       "..               ...           ...   \n",
       "239  36061014700, NY  3.606101e+10   \n",
       "240  36061004200, NY  3.606100e+10   \n",
       "241  36061020102, NY  3.606102e+10   \n",
       "242  36061030700, NY  3.606103e+10   \n",
       "243  36061000100, NY  3.606100e+10   \n",
       "244  36061011201, NY  3.606101e+10   \n",
       "245  36061003002, NY  3.606100e+10   \n",
       "246  36061011202, NY  3.606101e+10   \n",
       "247  36061011203, NY  3.606101e+10   \n",
       "248  36061014601, NY  3.606101e+10   \n",
       "249  36061014401, NY  3.606101e+10   \n",
       "250  36061015601, NY  3.606102e+10   \n",
       "251  36061000201, NY  3.606100e+10   \n",
       "252  36061028100, NY  3.606103e+10   \n",
       "253  36061023900, NY  3.606102e+10   \n",
       "254  36061024900, NY  3.606102e+10   \n",
       "255  36061002700, NY  3.606100e+10   \n",
       "256  36061002202, NY  3.606100e+10   \n",
       "257  36061001001, NY  3.606100e+10   \n",
       "258  36061020101, NY  3.606102e+10   \n",
       "259  36061014801, NY  3.606101e+10   \n",
       "260  36061015001, NY  3.606102e+10   \n",
       "261  36061015802, NY  3.606102e+10   \n",
       "262  36061016002, NY  3.606102e+10   \n",
       "263  36061017402, NY  3.606102e+10   \n",
       "264  36061019702, NY  3.606102e+10   \n",
       "265  36061020701, NY  3.606102e+10   \n",
       "266  36061026700, NY  3.606103e+10   \n",
       "267  36061022302, NY  3.606102e+10   \n",
       "268  36061023502, NY  3.606102e+10   \n",
       "\n",
       "     Estimated typical (median) age of all people between 2005-2009.  \\\n",
       "0                                                 36.0                 \n",
       "1                                                 42.0                 \n",
       "2                                                  NaN                 \n",
       "3                                                  NaN                 \n",
       "4                                                 35.0                 \n",
       "5                                                 38.0                 \n",
       "6                                                  NaN                 \n",
       "7                                                  NaN                 \n",
       "8                                                 34.0                 \n",
       "9                                                 24.0                 \n",
       "10                                                42.0                 \n",
       "11                                                34.0                 \n",
       "12                                                42.0                 \n",
       "13                                                37.0                 \n",
       "14                                                36.0                 \n",
       "15                                                37.0                 \n",
       "16                                                46.0                 \n",
       "17                                                29.0                 \n",
       "18                                                31.0                 \n",
       "19                                                33.0                 \n",
       "20                                                38.0                 \n",
       "21                                                41.0                 \n",
       "22                                                36.0                 \n",
       "23                                                34.0                 \n",
       "24                                                34.0                 \n",
       "25                                                32.0                 \n",
       "26                                                32.0                 \n",
       "27                                                39.0                 \n",
       "28                                                45.0                 \n",
       "29                                                40.0                 \n",
       "..                                                 ...                 \n",
       "239                                               34.0                 \n",
       "240                                               30.0                 \n",
       "241                                               30.0                 \n",
       "242                                               41.0                 \n",
       "243                                                NaN                 \n",
       "244                                               55.0                 \n",
       "245                                               39.0                 \n",
       "246                                               61.0                 \n",
       "247                                               50.0                 \n",
       "248                                               33.0                 \n",
       "249                                               40.0                 \n",
       "250                                               32.0                 \n",
       "251                                               39.0                 \n",
       "252                                               41.0                 \n",
       "253                                               35.0                 \n",
       "254                                               25.0                 \n",
       "255                                               39.0                 \n",
       "256                                               32.0                 \n",
       "257                                               47.0                 \n",
       "258                                               22.0                 \n",
       "259                                               40.0                 \n",
       "260                                               41.0                 \n",
       "261                                               31.0                 \n",
       "262                                               36.0                 \n",
       "263                                               26.0                 \n",
       "264                                               35.0                 \n",
       "265                                               28.0                 \n",
       "266                                               22.0                 \n",
       "267                                               33.0                 \n",
       "268                                               29.0                 \n",
       "\n",
       "      Census Tract_y  \\\n",
       "0    36061031900, NY   \n",
       "1    36061024000, NY   \n",
       "2    36061014300, NY   \n",
       "3    36061029700, NY   \n",
       "4    36061002400, NY   \n",
       "5    36061009900, NY   \n",
       "6    36061031100, NY   \n",
       "7    36061000500, NY   \n",
       "8    36061015100, NY   \n",
       "9    36061024302, NY   \n",
       "10   36061023600, NY   \n",
       "11   36061028700, NY   \n",
       "12   36061000202, NY   \n",
       "13   36061003300, NY   \n",
       "14   36061012900, NY   \n",
       "15   36061013500, NY   \n",
       "16   36061002900, NY   \n",
       "17   36061030900, NY   \n",
       "18   36061001300, NY   \n",
       "19   36061016200, NY   \n",
       "20   36061021000, NY   \n",
       "21   36061003900, NY   \n",
       "22   36061018900, NY   \n",
       "23   36061017800, NY   \n",
       "24   36061002100, NY   \n",
       "25   36061021900, NY   \n",
       "26   36061019701, NY   \n",
       "27   36061019800, NY   \n",
       "28   36061013700, NY   \n",
       "29   36061013600, NY   \n",
       "..               ...   \n",
       "239  36061014700, NY   \n",
       "240  36061004200, NY   \n",
       "241  36061020102, NY   \n",
       "242  36061030700, NY   \n",
       "243  36061000100, NY   \n",
       "244  36061011201, NY   \n",
       "245  36061003002, NY   \n",
       "246  36061011202, NY   \n",
       "247  36061011203, NY   \n",
       "248  36061014601, NY   \n",
       "249  36061014401, NY   \n",
       "250  36061015601, NY   \n",
       "251  36061000201, NY   \n",
       "252  36061028100, NY   \n",
       "253  36061023900, NY   \n",
       "254  36061024900, NY   \n",
       "255  36061002700, NY   \n",
       "256  36061002202, NY   \n",
       "257  36061001001, NY   \n",
       "258  36061020101, NY   \n",
       "259  36061014801, NY   \n",
       "260  36061015001, NY   \n",
       "261  36061015802, NY   \n",
       "262  36061016002, NY   \n",
       "263  36061017402, NY   \n",
       "264  36061019702, NY   \n",
       "265  36061020701, NY   \n",
       "266  36061026700, NY   \n",
       "267  36061022302, NY   \n",
       "268  36061023502, NY   \n",
       "\n",
       "     Estimated typical (median) age of all people between 2011-2015.  \\\n",
       "0                                                  NaN                 \n",
       "1                                                 47.0                 \n",
       "2                                                  NaN                 \n",
       "3                                                  NaN                 \n",
       "4                                                 43.0                 \n",
       "5                                                 33.0                 \n",
       "6                                                  NaN                 \n",
       "7                                                  NaN                 \n",
       "8                                                 38.0                 \n",
       "9                                                 33.0                 \n",
       "10                                                35.0                 \n",
       "11                                                36.0                 \n",
       "12                                                46.0                 \n",
       "13                                                36.0                 \n",
       "14                                                35.0                 \n",
       "15                                                42.0                 \n",
       "16                                                44.0                 \n",
       "17                                                34.0                 \n",
       "18                                                31.0                 \n",
       "19                                                36.0                 \n",
       "20                                                32.0                 \n",
       "21                                                38.0                 \n",
       "22                                                41.0                 \n",
       "23                                                32.0                 \n",
       "24                                                35.0                 \n",
       "25                                                31.0                 \n",
       "26                                                36.0                 \n",
       "27                                                43.0                 \n",
       "28                                                38.0                 \n",
       "29                                                38.0                 \n",
       "..                                                 ...                 \n",
       "239                                               34.0                 \n",
       "240                                               23.0                 \n",
       "241                                               33.0                 \n",
       "242                                               43.0                 \n",
       "243                                                NaN                 \n",
       "244                                               53.0                 \n",
       "245                                               41.0                 \n",
       "246                                               51.0                 \n",
       "247                                               39.0                 \n",
       "248                                               33.0                 \n",
       "249                                               45.0                 \n",
       "250                                               33.0                 \n",
       "251                                               41.0                 \n",
       "252                                               41.0                 \n",
       "253                                               36.0                 \n",
       "254                                               34.0                 \n",
       "255                                               46.0                 \n",
       "256                                               34.0                 \n",
       "257                                               45.0                 \n",
       "258                                               22.0                 \n",
       "259                                               39.0                 \n",
       "260                                               53.0                 \n",
       "261                                               30.0                 \n",
       "262                                               31.0                 \n",
       "263                                               31.0                 \n",
       "264                                               37.0                 \n",
       "265                                               28.0                 \n",
       "266                                               24.0                 \n",
       "267                                               34.0                 \n",
       "268                                               31.0                 \n",
       "\n",
       "     population density  median age  \n",
       "0            1660.58200        32.5  \n",
       "1            1631.78700        39.4  \n",
       "2              14.75448        38.5  \n",
       "3               0.00000         0.0  \n",
       "4           52187.88000        31.7  \n",
       "5            3895.73300        36.5  \n",
       "6              70.52879        46.5  \n",
       "7               5.88095        26.5  \n",
       "8           39130.04000        32.3  \n",
       "9           83366.31000        30.0  \n",
       "10          51828.19000        40.4  \n",
       "11          28106.15000        31.9  \n",
       "12          37305.31000        43.7  \n",
       "13          27706.50000        37.3  \n",
       "14          38473.20000        33.4  \n",
       "15          28869.53000        38.7  \n",
       "16          62553.13000        40.5  \n",
       "17          66082.12000        31.4  \n",
       "18          13210.25000        31.7  \n",
       "19          99453.44000        32.2  \n",
       "20          85925.55000        38.0  \n",
       "21          40955.07000        43.0  \n",
       "22         116937.70000        36.8  \n",
       "23          39988.36000        30.5  \n",
       "24          26120.94000        34.7  \n",
       "25          69573.72000        30.7  \n",
       "26            264.43820        39.5  \n",
       "27          17405.11000        39.8  \n",
       "28          80759.27000        40.5  \n",
       "29         169927.10000        38.7  \n",
       "..                  ...         ...  \n",
       "239         67623.16000        26.9  \n",
       "240        120123.00000        28.1  \n",
       "241        109129.50000        31.6  \n",
       "242        120905.20000        36.9  \n",
       "243             0.00000         0.0  \n",
       "244         36831.52000        45.2  \n",
       "245        100415.40000        34.6  \n",
       "246         12707.00000        54.8  \n",
       "247         43224.45000        47.4  \n",
       "248        135247.20000        32.7  \n",
       "249        184357.80000        41.5  \n",
       "250        189116.10000        29.1  \n",
       "251        132252.50000        33.4  \n",
       "252        108991.10000        43.2  \n",
       "253        109015.40000        33.8  \n",
       "254         48705.48000        31.5  \n",
       "255         65478.07000        46.2  \n",
       "256         67195.02000        31.4  \n",
       "257         61497.47000        49.5  \n",
       "258        105177.90000        21.3  \n",
       "259        145907.00000        39.0  \n",
       "260        111082.10000        44.0  \n",
       "261        164465.00000        34.9  \n",
       "262        162939.60000        35.5  \n",
       "263        109894.80000        30.6  \n",
       "264        118807.80000        34.7  \n",
       "265        141859.20000        29.9  \n",
       "266        107582.80000        26.3  \n",
       "267        229783.00000        33.0  \n",
       "268        121733.00000        30.3  \n",
       "\n",
       "[269 rows x 7 columns]"
      ]
     },
     "execution_count": 432,
     "metadata": {},
     "output_type": "execute_result"
    }
   ],
   "source": [
    "age_ = age09.merge(age15, on ='FIPS Code')\n",
    "age = age_.merge(pop_age00, on = 'FIPS Code')\n",
    "age"
   ]
  },
  {
   "cell_type": "code",
   "execution_count": 354,
   "metadata": {},
   "outputs": [],
   "source": [
    "age = age[[\"FIPS Code\", \"Estimated typical (median) age of all people between 2005-2009.\", \n",
    "           \"Estimated typical (median) age of all people between 2011-2015.\",\n",
    "           \"median age\"]]"
   ]
  },
  {
   "cell_type": "code",
   "execution_count": 355,
   "metadata": {
    "collapsed": true
   },
   "outputs": [],
   "source": [
    "race_ = race09.merge(race15, on ='FIPS Code')"
   ]
  },
  {
   "cell_type": "code",
   "execution_count": 356,
   "metadata": {
    "collapsed": true
   },
   "outputs": [],
   "source": [
    "race = race_.merge(race00, on ='FIPS Code' )"
   ]
  },
  {
   "cell_type": "code",
   "execution_count": 357,
   "metadata": {},
   "outputs": [
    {
     "data": {
      "text/plain": [
       "(3260, 4)"
      ]
     },
     "execution_count": 357,
     "metadata": {},
     "output_type": "execute_result"
    }
   ],
   "source": [
    "race = race[[\"FIPS Code\", \"Estimated percent of all people who were White between 2005-2009\", \n",
    "           \"Estimated percent of all people who were White between 2011-2015\",\n",
    "           \"Percent of all people who were White in 2000.\"]]\n",
    "race.shape"
   ]
  },
  {
   "cell_type": "code",
   "execution_count": 358,
   "metadata": {
    "collapsed": true
   },
   "outputs": [],
   "source": [
    "income_ = income00.merge(income09, on ='FIPS Code' )"
   ]
  },
  {
   "cell_type": "code",
   "execution_count": 359,
   "metadata": {},
   "outputs": [
    {
     "data": {
      "text/plain": [
       "(2338, 5)"
      ]
     },
     "execution_count": 359,
     "metadata": {},
     "output_type": "execute_result"
    }
   ],
   "source": [
    "income_.shape"
   ]
  },
  {
   "cell_type": "code",
   "execution_count": 360,
   "metadata": {},
   "outputs": [
    {
     "data": {
      "text/plain": [
       "(3260, 7)"
      ]
     },
     "execution_count": 360,
     "metadata": {},
     "output_type": "execute_result"
    }
   ],
   "source": [
    "income = income_.merge(income15, on ='FIPS Code' )\n",
    "income.shape"
   ]
  },
  {
   "cell_type": "code",
   "execution_count": 361,
   "metadata": {},
   "outputs": [],
   "source": [
    "income = income[[\"FIPS Code\", \"Per capita income in 2000.\", \n",
    "           \"Estimated per capita income between 2005-2009.\",\n",
    "           \"Estimated per capita income between 2011-2015.\"]]"
   ]
  },
  {
   "cell_type": "code",
   "execution_count": 363,
   "metadata": {},
   "outputs": [],
   "source": [
    "#income.dropna(inplace = True)"
   ]
  },
  {
   "cell_type": "markdown",
   "metadata": {},
   "source": [
    "## Age"
   ]
  },
  {
   "cell_type": "code",
   "execution_count": 243,
   "metadata": {},
   "outputs": [
    {
     "name": "stderr",
     "output_type": "stream",
     "text": [
      "C:\\Users\\Pooneh\\Anaconda2\\lib\\site-packages\\ipykernel\\__main__.py:1: SettingWithCopyWarning: \n",
      "A value is trying to be set on a copy of a slice from a DataFrame.\n",
      "Try using .loc[row_indexer,col_indexer] = value instead\n",
      "\n",
      "See the caveats in the documentation: http://pandas.pydata.org/pandas-docs/stable/indexing.html#indexing-view-versus-copy\n",
      "  if __name__ == '__main__':\n"
     ]
    }
   ],
   "source": [
    "age['censustract'] = age['FIPS Code'].astype(str).str[5:].astype(np.float64)"
   ]
  },
  {
   "cell_type": "code",
   "execution_count": 244,
   "metadata": {},
   "outputs": [
    {
     "data": {
      "text/plain": [
       "269"
      ]
     },
     "execution_count": 244,
     "metadata": {},
     "output_type": "execute_result"
    }
   ],
   "source": [
    "len(age['FIPS Code'].unique())\n"
   ]
  },
  {
   "cell_type": "code",
   "execution_count": 247,
   "metadata": {},
   "outputs": [],
   "source": [
    "age_highline = age[((age['censustract'] == 11500.0) | (age['censustract'] == 11700.0))\n",
    "                   | ((age['censustract'] == 9700.0) | (age['censustract'] == 10300.0))\n",
    "                   | ((age['censustract'] == 8900.0) | (age['censustract'] == 9300.0))\n",
    "                  | ((age['censustract'] == 11100.0) | (age['censustract'] == 8300.0))\n",
    "                  | ((age['censustract'] == 9900.0) | (age['censustract'] == 7700.0))\n",
    "                  | ((age['censustract'] == 7900.0))]"
   ]
  },
  {
   "cell_type": "code",
   "execution_count": 249,
   "metadata": {
    "collapsed": true
   },
   "outputs": [],
   "source": [
    "age_without_highline = age[age.apply(lambda x: x.values.tolist() not in age_highline.values.tolist(), axis=1)]"
   ]
  },
  {
   "cell_type": "code",
   "execution_count": 369,
   "metadata": {},
   "outputs": [
    {
     "data": {
      "text/plain": [
       "252"
      ]
     },
     "execution_count": 369,
     "metadata": {},
     "output_type": "execute_result"
    }
   ],
   "source": [
    "len(age_without_highline['FIPS Code'])"
   ]
  },
  {
   "cell_type": "code",
   "execution_count": 368,
   "metadata": {},
   "outputs": [
    {
     "data": {
      "text/plain": [
       "252"
      ]
     },
     "execution_count": 368,
     "metadata": {},
     "output_type": "execute_result"
    }
   ],
   "source": [
    "len(age_without_highline['FIPS Code'].unique())"
   ]
  },
  {
   "cell_type": "code",
   "execution_count": 251,
   "metadata": {},
   "outputs": [
    {
     "data": {
      "text/plain": [
       "(11, 5)"
      ]
     },
     "execution_count": 251,
     "metadata": {},
     "output_type": "execute_result"
    }
   ],
   "source": [
    "age_highline.shape"
   ]
  },
  {
   "cell_type": "code",
   "execution_count": 252,
   "metadata": {},
   "outputs": [
    {
     "data": {
      "text/plain": [
       "35.236363636363635"
      ]
     },
     "execution_count": 252,
     "metadata": {},
     "output_type": "execute_result"
    }
   ],
   "source": [
    "age_highline['median age'].mean()"
   ]
  },
  {
   "cell_type": "code",
   "execution_count": 253,
   "metadata": {},
   "outputs": [
    {
     "data": {
      "text/plain": [
       "37.18181818181818"
      ]
     },
     "execution_count": 253,
     "metadata": {},
     "output_type": "execute_result"
    }
   ],
   "source": [
    "age_highline['Estimated typical (median) age of all people between 2011-2015.'].mean()"
   ]
  },
  {
   "cell_type": "code",
   "execution_count": 254,
   "metadata": {},
   "outputs": [
    {
     "data": {
      "text/plain": [
       "39.54545454545455"
      ]
     },
     "execution_count": 254,
     "metadata": {},
     "output_type": "execute_result"
    }
   ],
   "source": [
    "age_highline['Estimated typical (median) age of all people between 2005-2009.'].mean()"
   ]
  },
  {
   "cell_type": "code",
   "execution_count": 255,
   "metadata": {},
   "outputs": [
    {
     "data": {
      "text/plain": [
       "35.85542635658916"
      ]
     },
     "execution_count": 255,
     "metadata": {},
     "output_type": "execute_result"
    }
   ],
   "source": [
    "age_without_highline['median age'].mean()"
   ]
  },
  {
   "cell_type": "code",
   "execution_count": 256,
   "metadata": {},
   "outputs": [
    {
     "name": "stderr",
     "output_type": "stream",
     "text": [
      "C:\\Users\\Pooneh\\Anaconda2\\lib\\site-packages\\ipykernel\\__main__.py:1: SettingWithCopyWarning: \n",
      "A value is trying to be set on a copy of a slice from a DataFrame\n",
      "\n",
      "See the caveats in the documentation: http://pandas.pydata.org/pandas-docs/stable/indexing.html#indexing-view-versus-copy\n",
      "  if __name__ == '__main__':\n"
     ]
    }
   ],
   "source": [
    "age_without_highline.dropna(inplace = True)"
   ]
  },
  {
   "cell_type": "code",
   "execution_count": 257,
   "metadata": {},
   "outputs": [
    {
     "data": {
      "text/plain": [
       "37.78968253968254"
      ]
     },
     "execution_count": 257,
     "metadata": {},
     "output_type": "execute_result"
    }
   ],
   "source": [
    "age_without_highline['Estimated typical (median) age of all people between 2011-2015.'].mean()"
   ]
  },
  {
   "cell_type": "code",
   "execution_count": 258,
   "metadata": {},
   "outputs": [
    {
     "data": {
      "text/plain": [
       "36.86904761904762"
      ]
     },
     "execution_count": 258,
     "metadata": {},
     "output_type": "execute_result"
    }
   ],
   "source": [
    "age_without_highline['Estimated typical (median) age of all people between 2005-2009.'].mean()"
   ]
  },
  {
   "cell_type": "code",
   "execution_count": 259,
   "metadata": {},
   "outputs": [
    {
     "data": {
      "text/plain": [
       "Power_divergenceResult(statistic=107.06217668249299, pvalue=1.0)"
      ]
     },
     "execution_count": 259,
     "metadata": {},
     "output_type": "execute_result"
    }
   ],
   "source": [
    "chisquare(age_without_highline['Estimated typical (median) age of all people between 2005-2009.'], age_without_highline['Estimated typical (median) age of all people between 2011-2015.'])"
   ]
  },
  {
   "cell_type": "code",
   "execution_count": 260,
   "metadata": {},
   "outputs": [
    {
     "data": {
      "text/plain": [
       "Power_divergenceResult(statistic=6.4346778952042101, pvalue=0.77751792765505778)"
      ]
     },
     "execution_count": 260,
     "metadata": {},
     "output_type": "execute_result"
    }
   ],
   "source": [
    "chisquare(age_highline['Estimated typical (median) age of all people between 2005-2009.'], age_highline['Estimated typical (median) age of all people between 2011-2015.'])"
   ]
  },
  {
   "cell_type": "code",
   "execution_count": 262,
   "metadata": {},
   "outputs": [
    {
     "data": {
      "text/plain": [
       "Ttest_indResult(statistic=1.0491037560604479, pvalue=0.30664315889998833)"
      ]
     },
     "execution_count": 262,
     "metadata": {},
     "output_type": "execute_result"
    }
   ],
   "source": [
    "ttest_ind(age_highline['Estimated typical (median) age of all people between 2005-2009.'], age_highline['Estimated typical (median) age of all people between 2011-2015.'])"
   ]
  },
  {
   "cell_type": "code",
   "execution_count": 264,
   "metadata": {},
   "outputs": [
    {
     "data": {
      "text/plain": [
       "Ks_2sampResult(statistic=0.31349206349206349, pvalue=0.20583876184221883)"
      ]
     },
     "execution_count": 264,
     "metadata": {},
     "output_type": "execute_result"
    }
   ],
   "source": [
    "ks_2samp(age_highline['Estimated typical (median) age of all people between 2005-2009.'],\n",
    "         age_without_highline['Estimated typical (median) age of all people between 2005-2009.'])\n"
   ]
  },
  {
   "cell_type": "code",
   "execution_count": 265,
   "metadata": {},
   "outputs": [
    {
     "data": {
      "text/plain": [
       "Ks_2sampResult(statistic=0.18001443001443002, pvalue=0.8478357829193488)"
      ]
     },
     "execution_count": 265,
     "metadata": {},
     "output_type": "execute_result"
    }
   ],
   "source": [
    "ks_2samp(age_highline['Estimated typical (median) age of all people between 2011-2015.'], age_without_highline['Estimated typical (median) age of all people between 2011-2015.'])"
   ]
  },
  {
   "cell_type": "code",
   "execution_count": 266,
   "metadata": {},
   "outputs": [
    {
     "data": {
      "text/plain": [
       "Ks_2sampResult(statistic=0.30194805194805197, pvalue=0.24242544521897821)"
      ]
     },
     "execution_count": 266,
     "metadata": {},
     "output_type": "execute_result"
    }
   ],
   "source": [
    "ks_2samp(age_highline['median age'], age_without_highline['median age'])"
   ]
  },
  {
   "cell_type": "markdown",
   "metadata": {},
   "source": [
    "## Income"
   ]
  },
  {
   "cell_type": "code",
   "execution_count": 370,
   "metadata": {
    "collapsed": true
   },
   "outputs": [],
   "source": [
    "income.dropna(inplace = True)"
   ]
  },
  {
   "cell_type": "code",
   "execution_count": 371,
   "metadata": {},
   "outputs": [],
   "source": [
    "income['censustract'] = income['FIPS Code'].astype(str).str[2:].astype(np.float64)"
   ]
  },
  {
   "cell_type": "code",
   "execution_count": 375,
   "metadata": {
    "collapsed": true
   },
   "outputs": [],
   "source": [
    "income_highline = income[((income['censustract'] == 61011500.0) | (income['censustract'] == 61011700.0))\n",
    "                   | ((income['censustract'] == 61009700.0) | (income['censustract'] == 61010300.0))\n",
    "                   | ((income['censustract'] == 61008900.0) | (income['censustract'] == 61009300.0))\n",
    "                  | ((income['censustract'] == 61011100.0) | (income['censustract'] == 61008300.0))\n",
    "                  | ((income['censustract'] == 61009900.0) | (income['censustract'] == 61007700.0))\n",
    "                  | ((income['censustract'] == 61007900.0))]"
   ]
  },
  {
   "cell_type": "code",
   "execution_count": 377,
   "metadata": {
    "collapsed": true
   },
   "outputs": [],
   "source": [
    "income_without_highline = income[income.apply(lambda x: x.values.tolist()\n",
    "                                     not in income_highline.values.tolist(), axis=1)]"
   ]
  },
  {
   "cell_type": "code",
   "execution_count": 378,
   "metadata": {},
   "outputs": [
    {
     "data": {
      "text/plain": [
       "1873"
      ]
     },
     "execution_count": 378,
     "metadata": {},
     "output_type": "execute_result"
    }
   ],
   "source": [
    "len(income_without_highline['FIPS Code'].unique())"
   ]
  },
  {
   "cell_type": "code",
   "execution_count": 379,
   "metadata": {},
   "outputs": [
    {
     "data": {
      "text/plain": [
       "1873"
      ]
     },
     "execution_count": 379,
     "metadata": {},
     "output_type": "execute_result"
    }
   ],
   "source": [
    "len(income_without_highline['FIPS Code'])"
   ]
  },
  {
   "cell_type": "code",
   "execution_count": 381,
   "metadata": {},
   "outputs": [
    {
     "data": {
      "text/plain": [
       "Ks_2sampResult(statistic=0.73130126680580498, pvalue=5.4869777309860298e-06)"
      ]
     },
     "execution_count": 381,
     "metadata": {},
     "output_type": "execute_result"
    }
   ],
   "source": [
    "ks_2samp(income_without_highline['Per capita income in 2000.'],\n",
    "          income_highline['Per capita income in 2000.'])"
   ]
  },
  {
   "cell_type": "code",
   "execution_count": 384,
   "metadata": {},
   "outputs": [
    {
     "data": {
      "text/plain": [
       "21712.27495995729"
      ]
     },
     "execution_count": 384,
     "metadata": {},
     "output_type": "execute_result"
    }
   ],
   "source": [
    "income_without_highline['Per capita income in 2000.'].mean()"
   ]
  },
  {
   "cell_type": "code",
   "execution_count": 386,
   "metadata": {},
   "outputs": [
    {
     "data": {
      "text/plain": [
       "43447.181818181816"
      ]
     },
     "execution_count": 386,
     "metadata": {},
     "output_type": "execute_result"
    }
   ],
   "source": [
    "income_highline['Per capita income in 2000.'].mean()"
   ]
  },
  {
   "cell_type": "code",
   "execution_count": 382,
   "metadata": {},
   "outputs": [
    {
     "data": {
      "text/plain": [
       "Ks_2sampResult(statistic=0.83876134543513081, pvalue=9.6545166745411137e-08)"
      ]
     },
     "execution_count": 382,
     "metadata": {},
     "output_type": "execute_result"
    }
   ],
   "source": [
    "ks_2samp(income_without_highline['Estimated per capita income between 2005-2009.'],\n",
    "          income_highline['Estimated per capita income between 2005-2009.'])"
   ]
  },
  {
   "cell_type": "code",
   "execution_count": 387,
   "metadata": {},
   "outputs": [
    {
     "data": {
      "text/plain": [
       "28918.208756006406"
      ]
     },
     "execution_count": 387,
     "metadata": {},
     "output_type": "execute_result"
    }
   ],
   "source": [
    "income_without_highline['Estimated per capita income between 2005-2009.'].mean()"
   ]
  },
  {
   "cell_type": "code",
   "execution_count": 388,
   "metadata": {},
   "outputs": [
    {
     "data": {
      "text/plain": [
       "66992.90909090909"
      ]
     },
     "execution_count": 388,
     "metadata": {},
     "output_type": "execute_result"
    }
   ],
   "source": [
    "income_highline['Estimated per capita income between 2005-2009.'].mean()"
   ]
  },
  {
   "cell_type": "code",
   "execution_count": 383,
   "metadata": {},
   "outputs": [
    {
     "data": {
      "text/plain": [
       "Ks_2sampResult(statistic=0.90336358782701554, pvalue=6.5209525766541407e-09)"
      ]
     },
     "execution_count": 383,
     "metadata": {},
     "output_type": "execute_result"
    }
   ],
   "source": [
    "ks_2samp(income_without_highline['Estimated per capita income between 2011-2015.'],\n",
    "          income_highline['Estimated per capita income between 2011-2015.'])"
   ]
  },
  {
   "cell_type": "code",
   "execution_count": 389,
   "metadata": {},
   "outputs": [
    {
     "data": {
      "text/plain": [
       "32149.319273892153"
      ]
     },
     "execution_count": 389,
     "metadata": {},
     "output_type": "execute_result"
    }
   ],
   "source": [
    "income_without_highline['Estimated per capita income between 2011-2015.'].mean()"
   ]
  },
  {
   "cell_type": "code",
   "execution_count": 390,
   "metadata": {},
   "outputs": [
    {
     "data": {
      "text/plain": [
       "90892.18181818182"
      ]
     },
     "execution_count": 390,
     "metadata": {},
     "output_type": "execute_result"
    }
   ],
   "source": [
    "income_highline['Estimated per capita income between 2011-2015.'].mean()"
   ]
  },
  {
   "cell_type": "code",
   "execution_count": 393,
   "metadata": {
    "collapsed": true
   },
   "outputs": [],
   "source": [
    "income_manhattan = income[income['FIPS Code'].astype(str).str[:5].astype(np.float64)==36061]"
   ]
  },
  {
   "cell_type": "code",
   "execution_count": 396,
   "metadata": {},
   "outputs": [
    {
     "data": {
      "text/plain": [
       "262"
      ]
     },
     "execution_count": 396,
     "metadata": {},
     "output_type": "execute_result"
    }
   ],
   "source": [
    "len(income_manhattan['FIPS Code'].unique())"
   ]
  },
  {
   "cell_type": "code",
   "execution_count": 397,
   "metadata": {},
   "outputs": [
    {
     "data": {
      "text/plain": [
       "262"
      ]
     },
     "execution_count": 397,
     "metadata": {},
     "output_type": "execute_result"
    }
   ],
   "source": [
    "len(income_manhattan['FIPS Code'])"
   ]
  },
  {
   "cell_type": "code",
   "execution_count": 398,
   "metadata": {
    "collapsed": true
   },
   "outputs": [],
   "source": [
    "income_manhattan_without_highline = income_manhattan[income_manhattan.apply(lambda x: x.values.tolist()\n",
    "                                     not in income_highline.values.tolist(), axis=1)]"
   ]
  },
  {
   "cell_type": "code",
   "execution_count": 399,
   "metadata": {},
   "outputs": [
    {
     "data": {
      "text/plain": [
       "Ks_2sampResult(statistic=0.32741760231800077, pvalue=0.16760202540926894)"
      ]
     },
     "execution_count": 399,
     "metadata": {},
     "output_type": "execute_result"
    }
   ],
   "source": [
    "ks_2samp(income_manhattan_without_highline['Per capita income in 2000.'],\n",
    "          income_highline['Per capita income in 2000.'])"
   ]
  },
  {
   "cell_type": "code",
   "execution_count": 400,
   "metadata": {},
   "outputs": [
    {
     "data": {
      "text/plain": [
       "Ks_2sampResult(statistic=0.4063745019920319, pvalue=0.043927298275529846)"
      ]
     },
     "execution_count": 400,
     "metadata": {},
     "output_type": "execute_result"
    }
   ],
   "source": [
    "ks_2samp(income_manhattan_without_highline['Estimated per capita income between 2005-2009.'],\n",
    "          income_highline['Estimated per capita income between 2005-2009.'])"
   ]
  },
  {
   "cell_type": "code",
   "execution_count": 401,
   "metadata": {},
   "outputs": [
    {
     "data": {
      "text/plain": [
       "62668.143426294824"
      ]
     },
     "execution_count": 401,
     "metadata": {},
     "output_type": "execute_result"
    }
   ],
   "source": [
    "income_manhattan_without_highline['Estimated per capita income between 2005-2009.'].mean()"
   ]
  },
  {
   "cell_type": "code",
   "execution_count": 402,
   "metadata": {},
   "outputs": [
    {
     "data": {
      "text/plain": [
       "66992.90909090909"
      ]
     },
     "execution_count": 402,
     "metadata": {},
     "output_type": "execute_result"
    }
   ],
   "source": [
    "income_highline['Estimated per capita income between 2005-2009.'].mean()"
   ]
  },
  {
   "cell_type": "code",
   "execution_count": 403,
   "metadata": {},
   "outputs": [
    {
     "data": {
      "text/plain": [
       "Ks_2sampResult(statistic=0.46613545816733065, pvalue=0.013156599684893274)"
      ]
     },
     "execution_count": 403,
     "metadata": {},
     "output_type": "execute_result"
    }
   ],
   "source": [
    "ks_2samp(income_manhattan_without_highline['Estimated per capita income between 2011-2015.'],\n",
    "          income_highline['Estimated per capita income between 2011-2015.'])"
   ]
  },
  {
   "cell_type": "code",
   "execution_count": 404,
   "metadata": {},
   "outputs": [
    {
     "data": {
      "text/plain": [
       "69522.83266932271"
      ]
     },
     "execution_count": 404,
     "metadata": {},
     "output_type": "execute_result"
    }
   ],
   "source": [
    "income_manhattan_without_highline['Estimated per capita income between 2011-2015.'].mean()"
   ]
  },
  {
   "cell_type": "code",
   "execution_count": 405,
   "metadata": {},
   "outputs": [
    {
     "data": {
      "text/plain": [
       "90892.18181818182"
      ]
     },
     "execution_count": 405,
     "metadata": {},
     "output_type": "execute_result"
    }
   ],
   "source": [
    "income_highline['Estimated per capita income between 2011-2015.'].mean()"
   ]
  },
  {
   "cell_type": "code",
   "execution_count": 406,
   "metadata": {},
   "outputs": [
    {
     "data": {
      "text/plain": [
       "Power_divergenceResult(statistic=168266.55375410564, pvalue=0.0)"
      ]
     },
     "execution_count": 406,
     "metadata": {},
     "output_type": "execute_result"
    }
   ],
   "source": [
    "chisquare(income_highline['Estimated per capita income between 2011-2015.'], income_highline['Estimated per capita income between 2005-2009.'])"
   ]
  },
  {
   "cell_type": "code",
   "execution_count": 407,
   "metadata": {},
   "outputs": [
    {
     "data": {
      "text/plain": [
       "Power_divergenceResult(statistic=136541.13354749663, pvalue=0.0)"
      ]
     },
     "execution_count": 407,
     "metadata": {},
     "output_type": "execute_result"
    }
   ],
   "source": [
    "chisquare(income_highline['Per capita income in 2000.'], income_highline['Estimated per capita income between 2005-2009.'])"
   ]
  },
  {
   "cell_type": "code",
   "execution_count": 408,
   "metadata": {},
   "outputs": [
    {
     "data": {
      "text/plain": [
       "Power_divergenceResult(statistic=1868740.3398472699, pvalue=0.0)"
      ]
     },
     "execution_count": 408,
     "metadata": {},
     "output_type": "execute_result"
    }
   ],
   "source": [
    "chisquare(income_manhattan_without_highline['Per capita income in 2000.'], income_manhattan_without_highline['Estimated per capita income between 2005-2009.'])"
   ]
  },
  {
   "cell_type": "code",
   "execution_count": 409,
   "metadata": {},
   "outputs": [
    {
     "data": {
      "text/plain": [
       "Power_divergenceResult(statistic=949575.37435505725, pvalue=0.0)"
      ]
     },
     "execution_count": 409,
     "metadata": {},
     "output_type": "execute_result"
    }
   ],
   "source": [
    "chisquare(income_manhattan_without_highline['Estimated per capita income between 2011-2015.'], income_manhattan_without_highline['Estimated per capita income between 2005-2009.'])"
   ]
  },
  {
   "cell_type": "code",
   "execution_count": 410,
   "metadata": {},
   "outputs": [
    {
     "data": {
      "text/plain": [
       "Ttest_indResult(statistic=1.6656110030753892, pvalue=0.09641728334552134)"
      ]
     },
     "execution_count": 410,
     "metadata": {},
     "output_type": "execute_result"
    }
   ],
   "source": [
    "ttest_ind(income_manhattan_without_highline['Estimated per capita income between 2011-2015.'], income_manhattan_without_highline['Estimated per capita income between 2005-2009.'])"
   ]
  },
  {
   "cell_type": "code",
   "execution_count": 411,
   "metadata": {},
   "outputs": [
    {
     "data": {
      "text/plain": [
       "Ttest_indResult(statistic=-4.5347702887324539, pvalue=7.2260927021428463e-06)"
      ]
     },
     "execution_count": 411,
     "metadata": {},
     "output_type": "execute_result"
    }
   ],
   "source": [
    "ttest_ind(income_manhattan_without_highline['Per capita income in 2000.'], income_manhattan_without_highline['Estimated per capita income between 2005-2009.'])"
   ]
  },
  {
   "cell_type": "code",
   "execution_count": 415,
   "metadata": {},
   "outputs": [
    {
     "data": {
      "text/plain": [
       "Ttest_indResult(statistic=2.5690986325342311, pvalue=0.018308459333115465)"
      ]
     },
     "execution_count": 415,
     "metadata": {},
     "output_type": "execute_result"
    }
   ],
   "source": [
    "ttest_ind(income_highline['Estimated per capita income between 2005-2009.'], income_highline['Per capita income in 2000.'])"
   ]
  },
  {
   "cell_type": "code",
   "execution_count": 413,
   "metadata": {},
   "outputs": [
    {
     "data": {
      "text/plain": [
       "Ttest_indResult(statistic=2.3893505389341243, pvalue=0.026843512845193537)"
      ]
     },
     "execution_count": 413,
     "metadata": {},
     "output_type": "execute_result"
    }
   ],
   "source": [
    "ttest_ind(income_highline['Estimated per capita income between 2011-2015.'], income_highline['Estimated per capita income between 2005-2009.'])"
   ]
  },
  {
   "cell_type": "markdown",
   "metadata": {},
   "source": [
    "## Pop"
   ]
  },
  {
   "cell_type": "code",
   "execution_count": 433,
   "metadata": {
    "collapsed": true
   },
   "outputs": [],
   "source": [
    "pop['censustract'] = pop['FIPS Code'].astype(str).str[2:].astype(np.float64)"
   ]
  },
  {
   "cell_type": "code",
   "execution_count": 434,
   "metadata": {
    "collapsed": true
   },
   "outputs": [],
   "source": [
    "pop_highline = pop[((pop['censustract'] == 61011500.0) | (pop['censustract'] == 61011700.0))\n",
    "                   | ((pop['censustract'] == 61009700.0) | (pop['censustract'] == 61010300.0))\n",
    "                   | ((pop['censustract'] == 61008900.0) | (pop['censustract'] == 61009300.0))\n",
    "                  | ((pop['censustract'] == 61011100.0) | (pop['censustract'] == 61008300.0))\n",
    "                  | ((pop['censustract'] == 61009900.0) | (pop['censustract'] == 61007700.0))\n",
    "                  | ((pop['censustract'] == 61007900.0))]"
   ]
  },
  {
   "cell_type": "code",
   "execution_count": 435,
   "metadata": {
    "collapsed": true
   },
   "outputs": [],
   "source": [
    "pop_without_highline = pop[pop.apply(lambda x: x.values.tolist()\n",
    "                                     not in pop_highline.values.tolist(), axis=1)]"
   ]
  },
  {
   "cell_type": "code",
   "execution_count": 465,
   "metadata": {},
   "outputs": [],
   "source": [
    "pop09_11_manhattan = pop_ [pop_ ['FIPS Code'].astype(str).str[:5].astype(np.float64)==36061]"
   ]
  },
  {
   "cell_type": "code",
   "execution_count": 471,
   "metadata": {
    "collapsed": true
   },
   "outputs": [],
   "source": [
    "pop_age00_ = pop_age00[pop_age00['FIPS Code'].astype(str).str[:5].astype(np.float64)==36061]"
   ]
  },
  {
   "cell_type": "code",
   "execution_count": 472,
   "metadata": {},
   "outputs": [
    {
     "data": {
      "text/plain": [
       "296"
      ]
     },
     "execution_count": 472,
     "metadata": {},
     "output_type": "execute_result"
    }
   ],
   "source": [
    "len(pop_age00_['FIPS Code'].unique())"
   ]
  },
  {
   "cell_type": "code",
   "execution_count": 474,
   "metadata": {},
   "outputs": [
    {
     "data": {
      "text/plain": [
       "FIPS Code             295\n",
       "population density    295\n",
       "median age            295\n",
       "dtype: int64"
      ]
     },
     "execution_count": 474,
     "metadata": {},
     "output_type": "execute_result"
    }
   ],
   "source": [
    "pop_age00_.drop(0).count()"
   ]
  },
  {
   "cell_type": "code",
   "execution_count": 469,
   "metadata": {},
   "outputs": [
    {
     "data": {
      "text/plain": [
       "96299.64226765801"
      ]
     },
     "execution_count": 469,
     "metadata": {},
     "output_type": "execute_result"
    }
   ],
   "source": [
    "pop09_11_manhattan['Estimated population density between 2005-2009.'].mean()"
   ]
  },
  {
   "cell_type": "code",
   "execution_count": 470,
   "metadata": {},
   "outputs": [
    {
     "data": {
      "text/plain": [
       "89260.19910780674"
      ]
     },
     "execution_count": 470,
     "metadata": {},
     "output_type": "execute_result"
    }
   ],
   "source": [
    "pop09_11_manhattan['Estimated population density between 2011-2015.'].mean()"
   ]
  },
  {
   "cell_type": "code",
   "execution_count": 485,
   "metadata": {},
   "outputs": [
    {
     "data": {
      "text/plain": [
       "269"
      ]
     },
     "execution_count": 485,
     "metadata": {},
     "output_type": "execute_result"
    }
   ],
   "source": [
    "len(pop09_11_manhattan['Estimated population density between 2011-2015.'])"
   ]
  },
  {
   "cell_type": "code",
   "execution_count": 439,
   "metadata": {
    "collapsed": true
   },
   "outputs": [],
   "source": [
    "pop_manhattan_without_highline = pop_manhattan[pop_manhattan.apply(lambda x: x.values.tolist()\n",
    "                                     not in pop_highline.values.tolist(), axis=1)]"
   ]
  },
  {
   "cell_type": "code",
   "execution_count": 440,
   "metadata": {},
   "outputs": [
    {
     "data": {
      "text/html": [
       "<div>\n",
       "<table border=\"1\" class=\"dataframe\">\n",
       "  <thead>\n",
       "    <tr style=\"text-align: right;\">\n",
       "      <th></th>\n",
       "      <th>FIPS Code</th>\n",
       "      <th>Estimated population density between 2005-2009.</th>\n",
       "      <th>Estimated population density between 2011-2015.</th>\n",
       "      <th>population density</th>\n",
       "      <th>censustract</th>\n",
       "    </tr>\n",
       "  </thead>\n",
       "  <tbody>\n",
       "    <tr>\n",
       "      <th>0</th>\n",
       "      <td>3.606103e+10</td>\n",
       "      <td>2285.00</td>\n",
       "      <td>0.00</td>\n",
       "      <td>1660.58200</td>\n",
       "      <td>61031900.0</td>\n",
       "    </tr>\n",
       "    <tr>\n",
       "      <th>1</th>\n",
       "      <td>3.606102e+10</td>\n",
       "      <td>2848.06</td>\n",
       "      <td>2088.24</td>\n",
       "      <td>1631.78700</td>\n",
       "      <td>61024000.0</td>\n",
       "    </tr>\n",
       "    <tr>\n",
       "      <th>2</th>\n",
       "      <td>3.606101e+10</td>\n",
       "      <td>0.00</td>\n",
       "      <td>4.40</td>\n",
       "      <td>14.75448</td>\n",
       "      <td>61014300.0</td>\n",
       "    </tr>\n",
       "    <tr>\n",
       "      <th>3</th>\n",
       "      <td>3.606103e+10</td>\n",
       "      <td>0.00</td>\n",
       "      <td>122.24</td>\n",
       "      <td>0.00000</td>\n",
       "      <td>61029700.0</td>\n",
       "    </tr>\n",
       "    <tr>\n",
       "      <th>4</th>\n",
       "      <td>3.606100e+10</td>\n",
       "      <td>47020.62</td>\n",
       "      <td>78525.30</td>\n",
       "      <td>52187.88000</td>\n",
       "      <td>61002400.0</td>\n",
       "    </tr>\n",
       "  </tbody>\n",
       "</table>\n",
       "</div>"
      ],
      "text/plain": [
       "      FIPS Code  Estimated population density between 2005-2009.  \\\n",
       "0  3.606103e+10                                          2285.00   \n",
       "1  3.606102e+10                                          2848.06   \n",
       "2  3.606101e+10                                             0.00   \n",
       "3  3.606103e+10                                             0.00   \n",
       "4  3.606100e+10                                         47020.62   \n",
       "\n",
       "   Estimated population density between 2011-2015.  population density  \\\n",
       "0                                             0.00          1660.58200   \n",
       "1                                          2088.24          1631.78700   \n",
       "2                                             4.40            14.75448   \n",
       "3                                           122.24             0.00000   \n",
       "4                                         78525.30         52187.88000   \n",
       "\n",
       "   censustract  \n",
       "0   61031900.0  \n",
       "1   61024000.0  \n",
       "2   61014300.0  \n",
       "3   61029700.0  \n",
       "4   61002400.0  "
      ]
     },
     "execution_count": 440,
     "metadata": {},
     "output_type": "execute_result"
    }
   ],
   "source": [
    "pop.head()"
   ]
  },
  {
   "cell_type": "code",
   "execution_count": 441,
   "metadata": {},
   "outputs": [
    {
     "data": {
      "text/plain": [
       "97775.08821705428"
      ]
     },
     "execution_count": 441,
     "metadata": {},
     "output_type": "execute_result"
    }
   ],
   "source": [
    "pop_manhattan_without_highline['Estimated population density between 2005-2009.'].mean()"
   ]
  },
  {
   "cell_type": "code",
   "execution_count": 442,
   "metadata": {},
   "outputs": [
    {
     "data": {
      "text/plain": [
       "93376.10722062016"
      ]
     },
     "execution_count": 442,
     "metadata": {},
     "output_type": "execute_result"
    }
   ],
   "source": [
    "pop_manhattan_without_highline['population density'].mean()"
   ]
  },
  {
   "cell_type": "code",
   "execution_count": 443,
   "metadata": {},
   "outputs": [
    {
     "data": {
      "text/plain": [
       "61693.72818181818"
      ]
     },
     "execution_count": 443,
     "metadata": {},
     "output_type": "execute_result"
    }
   ],
   "source": [
    "pop_highline['Estimated population density between 2005-2009.'].mean() "
   ]
  },
  {
   "cell_type": "code",
   "execution_count": 444,
   "metadata": {},
   "outputs": [
    {
     "data": {
      "text/plain": [
       "63522.942727272726"
      ]
     },
     "execution_count": 444,
     "metadata": {},
     "output_type": "execute_result"
    }
   ],
   "source": [
    "pop_highline['Estimated population density between 2011-2015.'].mean() "
   ]
  },
  {
   "cell_type": "code",
   "execution_count": 445,
   "metadata": {},
   "outputs": [
    {
     "data": {
      "text/plain": [
       "90357.52399224811"
      ]
     },
     "execution_count": 445,
     "metadata": {},
     "output_type": "execute_result"
    }
   ],
   "source": [
    "pop_manhattan_without_highline['Estimated population density between 2011-2015.'].mean()"
   ]
  },
  {
   "cell_type": "code",
   "execution_count": 446,
   "metadata": {},
   "outputs": [
    {
     "data": {
      "text/plain": [
       "54338.320999999996"
      ]
     },
     "execution_count": 446,
     "metadata": {},
     "output_type": "execute_result"
    }
   ],
   "source": [
    "pop_highline['population density'].mean()"
   ]
  },
  {
   "cell_type": "code",
   "execution_count": null,
   "metadata": {
    "collapsed": true
   },
   "outputs": [],
   "source": []
  }
 ],
 "metadata": {
  "kernelspec": {
   "display_name": "Python 3",
   "language": "python",
   "name": "python3"
  },
  "language_info": {
   "codemirror_mode": {
    "name": "ipython",
    "version": 3
   },
   "file_extension": ".py",
   "mimetype": "text/x-python",
   "name": "python",
   "nbconvert_exporter": "python",
   "pygments_lexer": "ipython3",
   "version": "3.6.1"
  }
 },
 "nbformat": 4,
 "nbformat_minor": 1
}
