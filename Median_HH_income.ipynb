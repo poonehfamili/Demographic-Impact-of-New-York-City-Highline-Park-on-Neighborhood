{
 "cells": [
  {
   "cell_type": "code",
   "execution_count": 120,
   "metadata": {},
   "outputs": [
    {
     "name": "stdout",
     "output_type": "stream",
     "text": [
      "Populating the interactive namespace from numpy and matplotlib\n"
     ]
    },
    {
     "name": "stderr",
     "output_type": "stream",
     "text": [
      "C:\\Users\\Aaron Dsouza\\Anaconda2\\lib\\site-packages\\IPython\\core\\magics\\pylab.py:161: UserWarning: pylab import has clobbered these variables: ['broadcast']\n",
      "`%matplotlib` prevents importing * from pylab and numpy\n",
      "  \"\\n`%matplotlib` prevents importing * from pylab and numpy\"\n"
     ]
    }
   ],
   "source": [
    "import numpy as np\n",
    "import pandas as pd\n",
    "from scipy.stats import ks_2samp\n",
    "from scipy import stats\n",
    "%pylab inline"
   ]
  },
  {
   "cell_type": "code",
   "execution_count": 9,
   "metadata": {},
   "outputs": [
    {
     "data": {
      "text/html": [
       "<div>\n",
       "<table border=\"1\" class=\"dataframe\">\n",
       "  <thead>\n",
       "    <tr style=\"text-align: right;\">\n",
       "      <th></th>\n",
       "      <th>Census Tract</th>\n",
       "      <th>FIPS Code</th>\n",
       "      <th>Formatted FIPS</th>\n",
       "      <th>Per capita income in 2000.</th>\n",
       "    </tr>\n",
       "  </thead>\n",
       "  <tbody>\n",
       "    <tr>\n",
       "      <th>0</th>\n",
       "      <td>36081091601, NY</td>\n",
       "      <td>3.608109e+10</td>\n",
       "      <td>3.608109e+10</td>\n",
       "      <td>31153.0</td>\n",
       "    </tr>\n",
       "    <tr>\n",
       "      <th>1</th>\n",
       "      <td>36081162200, NY</td>\n",
       "      <td>3.608116e+10</td>\n",
       "      <td>3.608116e+10</td>\n",
       "      <td>NaN</td>\n",
       "    </tr>\n",
       "    <tr>\n",
       "      <th>2</th>\n",
       "      <td>36081107202, NY</td>\n",
       "      <td>3.608111e+10</td>\n",
       "      <td>3.608111e+10</td>\n",
       "      <td>NaN</td>\n",
       "    </tr>\n",
       "    <tr>\n",
       "      <th>3</th>\n",
       "      <td>36085012803, NY</td>\n",
       "      <td>3.608501e+10</td>\n",
       "      <td>3.608501e+10</td>\n",
       "      <td>20646.0</td>\n",
       "    </tr>\n",
       "    <tr>\n",
       "      <th>4</th>\n",
       "      <td>36047070203, NY</td>\n",
       "      <td>3.604707e+10</td>\n",
       "      <td>3.604707e+10</td>\n",
       "      <td>NaN</td>\n",
       "    </tr>\n",
       "  </tbody>\n",
       "</table>\n",
       "</div>"
      ],
      "text/plain": [
       "      Census Tract     FIPS Code  Formatted FIPS  Per capita income in 2000.\n",
       "0  36081091601, NY  3.608109e+10    3.608109e+10                     31153.0\n",
       "1  36081162200, NY  3.608116e+10    3.608116e+10                         NaN\n",
       "2  36081107202, NY  3.608111e+10    3.608111e+10                         NaN\n",
       "3  36085012803, NY  3.608501e+10    3.608501e+10                     20646.0\n",
       "4  36047070203, NY  3.604707e+10    3.604707e+10                         NaN"
      ]
     },
     "execution_count": 9,
     "metadata": {},
     "output_type": "execute_result"
    }
   ],
   "source": [
    "income00 = pd.read_csv('Pooneh_data/usi/income per capita 2000.csv')\n"
   ]
  },
  {
   "cell_type": "code",
   "execution_count": 11,
   "metadata": {},
   "outputs": [
    {
     "data": {
      "text/html": [
       "<div>\n",
       "<table border=\"1\" class=\"dataframe\">\n",
       "  <thead>\n",
       "    <tr style=\"text-align: right;\">\n",
       "      <th></th>\n",
       "      <th>Census Tract</th>\n",
       "      <th>FIPS Code</th>\n",
       "      <th>Formatted FIPS</th>\n",
       "      <th>Estimated per capita income between 2005-2009.</th>\n",
       "    </tr>\n",
       "  </thead>\n",
       "  <tbody>\n",
       "    <tr>\n",
       "      <th>0</th>\n",
       "      <td>36081091601, NY</td>\n",
       "      <td>3.608109e+10</td>\n",
       "      <td>3.608109e+10</td>\n",
       "      <td>43400.0</td>\n",
       "    </tr>\n",
       "    <tr>\n",
       "      <th>1</th>\n",
       "      <td>36081162200, NY</td>\n",
       "      <td>3.608116e+10</td>\n",
       "      <td>3.608116e+10</td>\n",
       "      <td>NaN</td>\n",
       "    </tr>\n",
       "    <tr>\n",
       "      <th>2</th>\n",
       "      <td>36081107202, NY</td>\n",
       "      <td>3.608111e+10</td>\n",
       "      <td>3.608111e+10</td>\n",
       "      <td>NaN</td>\n",
       "    </tr>\n",
       "    <tr>\n",
       "      <th>3</th>\n",
       "      <td>36085012803, NY</td>\n",
       "      <td>3.608501e+10</td>\n",
       "      <td>3.608501e+10</td>\n",
       "      <td>29048.0</td>\n",
       "    </tr>\n",
       "    <tr>\n",
       "      <th>4</th>\n",
       "      <td>36047070203, NY</td>\n",
       "      <td>3.604707e+10</td>\n",
       "      <td>3.604707e+10</td>\n",
       "      <td>NaN</td>\n",
       "    </tr>\n",
       "  </tbody>\n",
       "</table>\n",
       "</div>"
      ],
      "text/plain": [
       "      Census Tract     FIPS Code  Formatted FIPS  \\\n",
       "0  36081091601, NY  3.608109e+10    3.608109e+10   \n",
       "1  36081162200, NY  3.608116e+10    3.608116e+10   \n",
       "2  36081107202, NY  3.608111e+10    3.608111e+10   \n",
       "3  36085012803, NY  3.608501e+10    3.608501e+10   \n",
       "4  36047070203, NY  3.604707e+10    3.604707e+10   \n",
       "\n",
       "   Estimated per capita income between 2005-2009.  \n",
       "0                                         43400.0  \n",
       "1                                             NaN  \n",
       "2                                             NaN  \n",
       "3                                         29048.0  \n",
       "4                                             NaN  "
      ]
     },
     "execution_count": 11,
     "metadata": {},
     "output_type": "execute_result"
    }
   ],
   "source": [
    "income09 = pd.read_csv('Pooneh_data/usi/income per capita 2005-2009.csv')\n"
   ]
  },
  {
   "cell_type": "code",
   "execution_count": 13,
   "metadata": {},
   "outputs": [
    {
     "data": {
      "text/html": [
       "<div>\n",
       "<table border=\"1\" class=\"dataframe\">\n",
       "  <thead>\n",
       "    <tr style=\"text-align: right;\">\n",
       "      <th></th>\n",
       "      <th>Census Tract</th>\n",
       "      <th>FIPS Code</th>\n",
       "      <th>Formatted FIPS</th>\n",
       "      <th>Estimated per capita income between 2011-2015.</th>\n",
       "    </tr>\n",
       "  </thead>\n",
       "  <tbody>\n",
       "    <tr>\n",
       "      <th>0</th>\n",
       "      <td>36081990100, NY</td>\n",
       "      <td>3.608199e+10</td>\n",
       "      <td>3.608199e+10</td>\n",
       "      <td>NaN</td>\n",
       "    </tr>\n",
       "    <tr>\n",
       "      <th>1</th>\n",
       "      <td>36085990100, NY</td>\n",
       "      <td>3.608599e+10</td>\n",
       "      <td>3.608599e+10</td>\n",
       "      <td>NaN</td>\n",
       "    </tr>\n",
       "    <tr>\n",
       "      <th>2</th>\n",
       "      <td>36081107202, NY</td>\n",
       "      <td>3.608111e+10</td>\n",
       "      <td>3.608111e+10</td>\n",
       "      <td>NaN</td>\n",
       "    </tr>\n",
       "    <tr>\n",
       "      <th>3</th>\n",
       "      <td>36047070203, NY</td>\n",
       "      <td>3.604707e+10</td>\n",
       "      <td>3.604707e+10</td>\n",
       "      <td>NaN</td>\n",
       "    </tr>\n",
       "    <tr>\n",
       "      <th>4</th>\n",
       "      <td>36081071600, NY</td>\n",
       "      <td>3.608107e+10</td>\n",
       "      <td>3.608107e+10</td>\n",
       "      <td>NaN</td>\n",
       "    </tr>\n",
       "  </tbody>\n",
       "</table>\n",
       "</div>"
      ],
      "text/plain": [
       "      Census Tract     FIPS Code  Formatted FIPS  \\\n",
       "0  36081990100, NY  3.608199e+10    3.608199e+10   \n",
       "1  36085990100, NY  3.608599e+10    3.608599e+10   \n",
       "2  36081107202, NY  3.608111e+10    3.608111e+10   \n",
       "3  36047070203, NY  3.604707e+10    3.604707e+10   \n",
       "4  36081071600, NY  3.608107e+10    3.608107e+10   \n",
       "\n",
       "   Estimated per capita income between 2011-2015.  \n",
       "0                                             NaN  \n",
       "1                                             NaN  \n",
       "2                                             NaN  \n",
       "3                                             NaN  \n",
       "4                                             NaN  "
      ]
     },
     "execution_count": 13,
     "metadata": {},
     "output_type": "execute_result"
    }
   ],
   "source": [
    "income15 = pd.read_csv('Pooneh_data/usi/income per capita 2011-2015.csv')\n"
   ]
  },
  {
   "cell_type": "code",
   "execution_count": 24,
   "metadata": {},
   "outputs": [
    {
     "data": {
      "text/plain": [
       "Index([u'FIPS Code', u'Per capita income in 2000.',\n",
       "       u'Estimated per capita income between 2005-2009.', u'Census Tract',\n",
       "       u'Formatted FIPS', u'Estimated per capita income between 2011-2015.'],\n",
       "      dtype='object')"
      ]
     },
     "execution_count": 24,
     "metadata": {},
     "output_type": "execute_result"
    }
   ],
   "source": [
    "income = pd.merge(income00, income09, on = 'FIPS Code')\n",
    "income = pd.merge(income, income15, on = 'FIPS Code')\n",
    "income.drop([u'Census Tract_x', u'Formatted FIPS_x',u'Census Tract_y', u'Formatted FIPS_y'], axis=1, inplace=True)\n",
    "income.columns"
   ]
  },
  {
   "cell_type": "code",
   "execution_count": 88,
   "metadata": {},
   "outputs": [
    {
     "data": {
      "text/html": [
       "<div>\n",
       "<table border=\"1\" class=\"dataframe\">\n",
       "  <thead>\n",
       "    <tr style=\"text-align: right;\">\n",
       "      <th></th>\n",
       "      <th>FIPS Code</th>\n",
       "      <th>Per capita income in 2000.</th>\n",
       "      <th>Estimated per capita income between 2005-2009.</th>\n",
       "      <th>Estimated per capita income between 2011-2015.</th>\n",
       "    </tr>\n",
       "  </thead>\n",
       "  <tbody>\n",
       "    <tr>\n",
       "      <th>0</th>\n",
       "      <td>3.608109e+10</td>\n",
       "      <td>31153.0</td>\n",
       "      <td>43400.0</td>\n",
       "      <td>42135.0</td>\n",
       "    </tr>\n",
       "    <tr>\n",
       "      <th>5</th>\n",
       "      <td>3.608501e+10</td>\n",
       "      <td>20432.0</td>\n",
       "      <td>27521.0</td>\n",
       "      <td>28335.0</td>\n",
       "    </tr>\n",
       "    <tr>\n",
       "      <th>7</th>\n",
       "      <td>3.608503e+10</td>\n",
       "      <td>21806.0</td>\n",
       "      <td>28260.0</td>\n",
       "      <td>34826.0</td>\n",
       "    </tr>\n",
       "    <tr>\n",
       "      <th>8</th>\n",
       "      <td>3.608502e+10</td>\n",
       "      <td>22815.0</td>\n",
       "      <td>24284.0</td>\n",
       "      <td>36201.0</td>\n",
       "    </tr>\n",
       "    <tr>\n",
       "      <th>9</th>\n",
       "      <td>3.608502e+10</td>\n",
       "      <td>30753.0</td>\n",
       "      <td>41283.0</td>\n",
       "      <td>46422.0</td>\n",
       "    </tr>\n",
       "  </tbody>\n",
       "</table>\n",
       "</div>"
      ],
      "text/plain": [
       "      FIPS Code  Per capita income in 2000.  \\\n",
       "0  3.608109e+10                     31153.0   \n",
       "5  3.608501e+10                     20432.0   \n",
       "7  3.608503e+10                     21806.0   \n",
       "8  3.608502e+10                     22815.0   \n",
       "9  3.608502e+10                     30753.0   \n",
       "\n",
       "   Estimated per capita income between 2005-2009.  \\\n",
       "0                                         43400.0   \n",
       "5                                         27521.0   \n",
       "7                                         28260.0   \n",
       "8                                         24284.0   \n",
       "9                                         41283.0   \n",
       "\n",
       "   Estimated per capita income between 2011-2015.  \n",
       "0                                         42135.0  \n",
       "5                                         28335.0  \n",
       "7                                         34826.0  \n",
       "8                                         36201.0  \n",
       "9                                         46422.0  "
      ]
     },
     "execution_count": 88,
     "metadata": {},
     "output_type": "execute_result"
    }
   ],
   "source": [
    "income = income[[u'FIPS Code', u'Per capita income in 2000.', u'Estimated per capita income between 2005-2009.', \\\n",
    "                 u'Estimated per capita income between 2011-2015.']]\n",
    "income.dropna(inplace = True)\n",
    "income.head()"
   ]
  },
  {
   "cell_type": "code",
   "execution_count": 89,
   "metadata": {},
   "outputs": [
    {
     "data": {
      "text/html": [
       "<div>\n",
       "<table border=\"1\" class=\"dataframe\">\n",
       "  <thead>\n",
       "    <tr style=\"text-align: right;\">\n",
       "      <th></th>\n",
       "      <th>FIPS Code</th>\n",
       "      <th>Per capita income in 2000.</th>\n",
       "      <th>Estimated per capita income between 2005-2009.</th>\n",
       "      <th>Estimated per capita income between 2011-2015.</th>\n",
       "      <th>censustract</th>\n",
       "    </tr>\n",
       "  </thead>\n",
       "  <tbody>\n",
       "    <tr>\n",
       "      <th>0</th>\n",
       "      <td>3.608109e+10</td>\n",
       "      <td>31153.0</td>\n",
       "      <td>43400.0</td>\n",
       "      <td>42135.0</td>\n",
       "      <td>81091601.0</td>\n",
       "    </tr>\n",
       "    <tr>\n",
       "      <th>5</th>\n",
       "      <td>3.608501e+10</td>\n",
       "      <td>20432.0</td>\n",
       "      <td>27521.0</td>\n",
       "      <td>28335.0</td>\n",
       "      <td>85011202.0</td>\n",
       "    </tr>\n",
       "    <tr>\n",
       "      <th>7</th>\n",
       "      <td>3.608503e+10</td>\n",
       "      <td>21806.0</td>\n",
       "      <td>28260.0</td>\n",
       "      <td>34826.0</td>\n",
       "      <td>85029102.0</td>\n",
       "    </tr>\n",
       "    <tr>\n",
       "      <th>8</th>\n",
       "      <td>3.608502e+10</td>\n",
       "      <td>22815.0</td>\n",
       "      <td>24284.0</td>\n",
       "      <td>36201.0</td>\n",
       "      <td>85022600.0</td>\n",
       "    </tr>\n",
       "    <tr>\n",
       "      <th>9</th>\n",
       "      <td>3.608502e+10</td>\n",
       "      <td>30753.0</td>\n",
       "      <td>41283.0</td>\n",
       "      <td>46422.0</td>\n",
       "      <td>85017600.0</td>\n",
       "    </tr>\n",
       "  </tbody>\n",
       "</table>\n",
       "</div>"
      ],
      "text/plain": [
       "      FIPS Code  Per capita income in 2000.  \\\n",
       "0  3.608109e+10                     31153.0   \n",
       "5  3.608501e+10                     20432.0   \n",
       "7  3.608503e+10                     21806.0   \n",
       "8  3.608502e+10                     22815.0   \n",
       "9  3.608502e+10                     30753.0   \n",
       "\n",
       "   Estimated per capita income between 2005-2009.  \\\n",
       "0                                         43400.0   \n",
       "5                                         27521.0   \n",
       "7                                         28260.0   \n",
       "8                                         24284.0   \n",
       "9                                         41283.0   \n",
       "\n",
       "   Estimated per capita income between 2011-2015.  censustract  \n",
       "0                                         42135.0   81091601.0  \n",
       "5                                         28335.0   85011202.0  \n",
       "7                                         34826.0   85029102.0  \n",
       "8                                         36201.0   85022600.0  \n",
       "9                                         46422.0   85017600.0  "
      ]
     },
     "execution_count": 89,
     "metadata": {},
     "output_type": "execute_result"
    }
   ],
   "source": [
    "income['censustract'] = income['FIPS Code'].astype(str).str[2:].astype(np.float64)\n",
    "income.head()"
   ]
  },
  {
   "cell_type": "code",
   "execution_count": 92,
   "metadata": {
    "collapsed": true
   },
   "outputs": [],
   "source": [
    "income_manhattan = income[income['FIPS Code'].astype(str).str[:5].astype(np.float64)==36061]"
   ]
  },
  {
   "cell_type": "code",
   "execution_count": 93,
   "metadata": {
    "collapsed": true
   },
   "outputs": [],
   "source": [
    "income_highline = income[((income['censustract'] == 61011500.0) | (income['censustract'] == 61011700.0))\n",
    "                   | ((income['censustract'] == 61009700.0) | (income['censustract'] == 61010300.0))\n",
    "                   | ((income['censustract'] == 61008900.0) | (income['censustract'] == 61009300.0))\n",
    "                  | ((income['censustract'] == 61011100.0) | (income['censustract'] == 61008300.0))\n",
    "                  | ((income['censustract'] == 61009900.0) | (income['censustract'] == 61007700.0))\n",
    "                  | ((income['censustract'] == 61007900.0))]"
   ]
  },
  {
   "cell_type": "code",
   "execution_count": 94,
   "metadata": {
    "collapsed": true
   },
   "outputs": [],
   "source": [
    "income_without_highline = income_manhattan[income_manhattan.apply(lambda x: x.values.tolist()\n",
    "                                     not in income_highline.values.tolist(), axis=1)]"
   ]
  },
  {
   "cell_type": "code",
   "execution_count": 96,
   "metadata": {},
   "outputs": [
    {
     "data": {
      "text/plain": [
       "262"
      ]
     },
     "execution_count": 96,
     "metadata": {},
     "output_type": "execute_result"
    }
   ],
   "source": [
    "len(income_manhattan['FIPS Code'].unique())"
   ]
  },
  {
   "cell_type": "code",
   "execution_count": 97,
   "metadata": {},
   "outputs": [
    {
     "data": {
      "text/plain": [
       "262"
      ]
     },
     "execution_count": 97,
     "metadata": {},
     "output_type": "execute_result"
    }
   ],
   "source": [
    "len(income_manhattan['FIPS Code'])"
   ]
  },
  {
   "cell_type": "code",
   "execution_count": 98,
   "metadata": {},
   "outputs": [
    {
     "data": {
      "text/plain": [
       "11"
      ]
     },
     "execution_count": 98,
     "metadata": {},
     "output_type": "execute_result"
    }
   ],
   "source": [
    "len(income_highline['FIPS Code'].unique())"
   ]
  },
  {
   "cell_type": "code",
   "execution_count": 106,
   "metadata": {},
   "outputs": [
    {
     "data": {
      "text/plain": [
       "Ks_2sampResult(statistic=0.32741760231800077, pvalue=0.16760202540926894)"
      ]
     },
     "execution_count": 106,
     "metadata": {},
     "output_type": "execute_result"
    }
   ],
   "source": [
    "ks_2samp(income_without_highline['Per capita income in 2000.'],\n",
    "          income_highline['Per capita income in 2000.'])"
   ]
  },
  {
   "cell_type": "code",
   "execution_count": 107,
   "metadata": {},
   "outputs": [
    {
     "data": {
      "text/plain": [
       "Ks_2sampResult(statistic=0.4063745019920319, pvalue=0.043927298275529846)"
      ]
     },
     "execution_count": 107,
     "metadata": {},
     "output_type": "execute_result"
    }
   ],
   "source": [
    "#This is a two-sided test for the null hypothesis that 2 independent samples\n",
    "# are drawn from the same continuous distribution.\n",
    "ks_2samp(income_without_highline['Estimated per capita income between 2005-2009.'],\n",
    "          income_highline['Estimated per capita income between 2005-2009.'])"
   ]
  },
  {
   "cell_type": "code",
   "execution_count": 105,
   "metadata": {},
   "outputs": [
    {
     "data": {
      "text/plain": [
       "Ks_2sampResult(statistic=0.46613545816733065, pvalue=0.013156599684893274)"
      ]
     },
     "execution_count": 105,
     "metadata": {},
     "output_type": "execute_result"
    }
   ],
   "source": [
    "#This is a two-sided test for the null hypothesis that 2 independent samples\n",
    "# are drawn from the same continuous distribution.\n",
    "ks_2samp(income_without_highline['Estimated per capita income between 2011-2015.'],\n",
    "          income_highline['Estimated per capita income between 2011-2015.'])"
   ]
  },
  {
   "cell_type": "code",
   "execution_count": 110,
   "metadata": {},
   "outputs": [
    {
     "data": {
      "text/plain": [
       "Ttest_relResult(statistic=-4.0710132257750624, pvalue=0.0022465092569014427)"
      ]
     },
     "execution_count": 110,
     "metadata": {},
     "output_type": "execute_result"
    }
   ],
   "source": [
    "#The test measures whether the average score differs significantly across samples (e.g. exams). \n",
    "#If we observe a large p-value, for example greater than 0.05 or 0.1 \n",
    "#then we cannot reject the null hypothesis of identical average scores. If the p-value is smaller than the threshold, e.g. 1%, 5% or 10%,\n",
    "#then we reject the null hypothesis of equal averages. Small p-values are associated with large t-statistics.\n",
    "stats.ttest_rel(income_highline['Per capita income in 2000.'], income_highline['Estimated per capita income between 2005-2009.'])"
   ]
  },
  {
   "cell_type": "markdown",
   "metadata": {},
   "source": [
    "### T test Relation result\n",
    "#### The test measures whether the average score differs significantly across samples (e.g. exams). \n",
    "#### If we observe a large p-value, for example greater than 0.05 or 0.1 \n",
    "#### then we cannot reject the null hypothesis of identical average scores. If the p-value is smaller than the threshold, e.g. 1%, 5% or 10%,\n",
    "#### then we reject the null hypothesis of equal averages. Small p-values are associated with large t-statistics."
   ]
  },
  {
   "cell_type": "code",
   "execution_count": 113,
   "metadata": {},
   "outputs": [],
   "source": [
    "# stats.ttest_rel(income_highline['Per capita income in 2000.'], income_highline['Estimated per capita income between 2005-2009.'])"
   ]
  },
  {
   "cell_type": "code",
   "execution_count": 112,
   "metadata": {},
   "outputs": [
    {
     "data": {
      "text/plain": [
       "Ttest_relResult(statistic=4.2984576188669408, pvalue=0.001565233591844898)"
      ]
     },
     "execution_count": 112,
     "metadata": {},
     "output_type": "execute_result"
    }
   ],
   "source": [
    "stats.ttest_rel(income_highline['Estimated per capita income between 2011-2015.'], income_highline['Estimated per capita income between 2005-2009.'])"
   ]
  },
  {
   "cell_type": "code",
   "execution_count": 114,
   "metadata": {},
   "outputs": [
    {
     "data": {
      "text/plain": [
       "Ttest_relResult(statistic=6.5798941954256547, pvalue=2.7412290670898621e-10)"
      ]
     },
     "execution_count": 114,
     "metadata": {},
     "output_type": "execute_result"
    }
   ],
   "source": [
    "stats.ttest_rel(income_without_highline['Estimated per capita income between 2011-2015.'], income_without_highline['Estimated per capita income between 2005-2009.'])"
   ]
  },
  {
   "cell_type": "code",
   "execution_count": 136,
   "metadata": {},
   "outputs": [],
   "source": [
    "income_highline.reset_index(inplace=True, drop=True)\n",
    "income_without_highline.reset_index(inplace=True, drop=True)"
   ]
  },
  {
   "cell_type": "code",
   "execution_count": 138,
   "metadata": {},
   "outputs": [
    {
     "data": {
      "text/html": [
       "<div>\n",
       "<table border=\"1\" class=\"dataframe\">\n",
       "  <thead>\n",
       "    <tr style=\"text-align: right;\">\n",
       "      <th></th>\n",
       "      <th>FIPS Code</th>\n",
       "      <th>Per capita income in 2000.</th>\n",
       "      <th>Estimated per capita income between 2005-2009.</th>\n",
       "      <th>Estimated per capita income between 2011-2015.</th>\n",
       "      <th>censustract</th>\n",
       "    </tr>\n",
       "  </thead>\n",
       "  <tbody>\n",
       "    <tr>\n",
       "      <th>0</th>\n",
       "      <td>3.606102e+10</td>\n",
       "      <td>5649.0</td>\n",
       "      <td>2568.0</td>\n",
       "      <td>4018.0</td>\n",
       "      <td>61024000.0</td>\n",
       "    </tr>\n",
       "  </tbody>\n",
       "</table>\n",
       "</div>"
      ],
      "text/plain": [
       "      FIPS Code  Per capita income in 2000.  \\\n",
       "0  3.606102e+10                      5649.0   \n",
       "\n",
       "   Estimated per capita income between 2005-2009.  \\\n",
       "0                                          2568.0   \n",
       "\n",
       "   Estimated per capita income between 2011-2015.  censustract  \n",
       "0                                          4018.0   61024000.0  "
      ]
     },
     "execution_count": 138,
     "metadata": {},
     "output_type": "execute_result"
    }
   ],
   "source": [
    "income_without_highline.head(1)"
   ]
  },
  {
   "cell_type": "code",
   "execution_count": 147,
   "metadata": {},
   "outputs": [],
   "source": [
    "income_without_highline_list = []\n",
    "for i in range(len(income_without_highline)):\n",
    "    income_without_highline_list.append((income_without_highline['Estimated per capita income between 2011-2015.'][i] - \\\n",
    "         income_without_highline['Estimated per capita income between 2005-2009.'][i])/\\\n",
    "    income_without_highline['Estimated per capita income between 2005-2009.'][i])\n"
   ]
  },
  {
   "cell_type": "code",
   "execution_count": 148,
   "metadata": {},
   "outputs": [
    {
     "data": {
      "text/plain": [
       "0.16410551046665123"
      ]
     },
     "execution_count": 148,
     "metadata": {},
     "output_type": "execute_result"
    }
   ],
   "source": [
    "np.mean(income_without_highline_list)"
   ]
  },
  {
   "cell_type": "code",
   "execution_count": 151,
   "metadata": {},
   "outputs": [],
   "source": [
    "income_highline_list = []\n",
    "income_highline_list.append((income_highline['Estimated per capita income between 2011-2015.'] - \\\n",
    "         income_highline['Estimated per capita income between 2005-2009.'])/\\\n",
    "    income_highline['Estimated per capita income between 2005-2009.'])\n"
   ]
  },
  {
   "cell_type": "code",
   "execution_count": 152,
   "metadata": {},
   "outputs": [
    {
     "data": {
      "text/plain": [
       "0.41994845616770421"
      ]
     },
     "execution_count": 152,
     "metadata": {},
     "output_type": "execute_result"
    }
   ],
   "source": [
    "np.mean(income_highline_list)"
   ]
  },
  {
   "cell_type": "code",
   "execution_count": 157,
   "metadata": {},
   "outputs": [
    {
     "data": {
      "text/plain": [
       "90892.18181818182"
      ]
     },
     "execution_count": 157,
     "metadata": {},
     "output_type": "execute_result"
    }
   ],
   "source": [
    "mean_income_highline_15 = income_highline['Estimated per capita income between 2011-2015.'].mean()\n",
    "mean_income_highline_15"
   ]
  },
  {
   "cell_type": "code",
   "execution_count": 156,
   "metadata": {},
   "outputs": [
    {
     "data": {
      "text/plain": [
       "69522.83266932271"
      ]
     },
     "execution_count": 156,
     "metadata": {},
     "output_type": "execute_result"
    }
   ],
   "source": [
    "mean_income_without_highline_15 = income_without_highline['Estimated per capita income between 2011-2015.'].mean()\n",
    "mean_income_without_highline_15"
   ]
  },
  {
   "cell_type": "code",
   "execution_count": 158,
   "metadata": {},
   "outputs": [
    {
     "data": {
      "text/plain": [
       "66992.90909090909"
      ]
     },
     "execution_count": 158,
     "metadata": {},
     "output_type": "execute_result"
    }
   ],
   "source": [
    "mean_income_highline_09 = income_highline['Estimated per capita income between 2005-2009.'].mean()\n",
    "mean_income_highline_09"
   ]
  },
  {
   "cell_type": "code",
   "execution_count": 159,
   "metadata": {},
   "outputs": [
    {
     "data": {
      "text/plain": [
       "62668.143426294824"
      ]
     },
     "execution_count": 159,
     "metadata": {},
     "output_type": "execute_result"
    }
   ],
   "source": [
    "mean_income_without_highline_09 = income_without_highline['Estimated per capita income between 2005-2009.'].mean()\n",
    "mean_income_without_highline_09"
   ]
  },
  {
   "cell_type": "code",
   "execution_count": 160,
   "metadata": {},
   "outputs": [
    {
     "name": "stdout",
     "output_type": "stream",
     "text": [
      "Populating the interactive namespace from numpy and matplotlib\n"
     ]
    }
   ],
   "source": [
    "import matplotlib,pylab as pl\n",
    "%pylab inline"
   ]
  },
  {
   "cell_type": "code",
   "execution_count": 211,
   "metadata": {},
   "outputs": [],
   "source": [
    "# change  = {'highline' : [mean_income_highline_09, mean_income_highline_15], \\\n",
    "#            'manhattan_without_highline' : [mean_income_without_highline_09, mean_income_without_highline_15 ],\\\n",
    "#          'year' : ['2009', '2015']}\n",
    "\n",
    "change  = {'highline' : [mean_income_highline_09, mean_income_highline_15], \\\n",
    "           'manhattan without highline' : [mean_income_without_highline_09, mean_income_without_highline_15 ]}"
   ]
  },
  {
   "cell_type": "code",
   "execution_count": 212,
   "metadata": {},
   "outputs": [
    {
     "ename": "AttributeError",
     "evalue": "'DataFrame' object has no attribute 'year'",
     "output_type": "error",
     "traceback": [
      "\u001b[0;31m---------------------------------------------------------------------------\u001b[0m",
      "\u001b[0;31mAttributeError\u001b[0m                            Traceback (most recent call last)",
      "\u001b[0;32m<ipython-input-212-582de3efc251>\u001b[0m in \u001b[0;36m<module>\u001b[0;34m()\u001b[0m\n\u001b[1;32m      1\u001b[0m \u001b[0mchange\u001b[0m \u001b[1;33m=\u001b[0m \u001b[0mpd\u001b[0m\u001b[1;33m.\u001b[0m\u001b[0mDataFrame\u001b[0m\u001b[1;33m(\u001b[0m\u001b[0mchange\u001b[0m\u001b[1;33m)\u001b[0m\u001b[1;33m\u001b[0m\u001b[0m\n\u001b[0;32m----> 2\u001b[0;31m \u001b[0mchange\u001b[0m\u001b[1;33m.\u001b[0m\u001b[0mset_index\u001b[0m\u001b[1;33m(\u001b[0m\u001b[0mchange\u001b[0m\u001b[1;33m.\u001b[0m\u001b[0myear\u001b[0m\u001b[1;33m)\u001b[0m\u001b[1;33m\u001b[0m\u001b[0m\n\u001b[0m\u001b[1;32m      3\u001b[0m \u001b[0mchange\u001b[0m\u001b[1;33m.\u001b[0m\u001b[0mhead\u001b[0m\u001b[1;33m(\u001b[0m\u001b[1;33m)\u001b[0m\u001b[1;33m\u001b[0m\u001b[0m\n",
      "\u001b[0;32mC:\\Users\\Aaron Dsouza\\Anaconda2\\lib\\site-packages\\pandas\\core\\generic.pyc\u001b[0m in \u001b[0;36m__getattr__\u001b[0;34m(self, name)\u001b[0m\n\u001b[1;32m   2670\u001b[0m             \u001b[1;32mif\u001b[0m \u001b[0mname\u001b[0m \u001b[1;32min\u001b[0m \u001b[0mself\u001b[0m\u001b[1;33m.\u001b[0m\u001b[0m_info_axis\u001b[0m\u001b[1;33m:\u001b[0m\u001b[1;33m\u001b[0m\u001b[0m\n\u001b[1;32m   2671\u001b[0m                 \u001b[1;32mreturn\u001b[0m \u001b[0mself\u001b[0m\u001b[1;33m[\u001b[0m\u001b[0mname\u001b[0m\u001b[1;33m]\u001b[0m\u001b[1;33m\u001b[0m\u001b[0m\n\u001b[0;32m-> 2672\u001b[0;31m             \u001b[1;32mreturn\u001b[0m \u001b[0mobject\u001b[0m\u001b[1;33m.\u001b[0m\u001b[0m__getattribute__\u001b[0m\u001b[1;33m(\u001b[0m\u001b[0mself\u001b[0m\u001b[1;33m,\u001b[0m \u001b[0mname\u001b[0m\u001b[1;33m)\u001b[0m\u001b[1;33m\u001b[0m\u001b[0m\n\u001b[0m\u001b[1;32m   2673\u001b[0m \u001b[1;33m\u001b[0m\u001b[0m\n\u001b[1;32m   2674\u001b[0m     \u001b[1;32mdef\u001b[0m \u001b[0m__setattr__\u001b[0m\u001b[1;33m(\u001b[0m\u001b[0mself\u001b[0m\u001b[1;33m,\u001b[0m \u001b[0mname\u001b[0m\u001b[1;33m,\u001b[0m \u001b[0mvalue\u001b[0m\u001b[1;33m)\u001b[0m\u001b[1;33m:\u001b[0m\u001b[1;33m\u001b[0m\u001b[0m\n",
      "\u001b[0;31mAttributeError\u001b[0m: 'DataFrame' object has no attribute 'year'"
     ]
    }
   ],
   "source": [
    "change = pd.DataFrame(change)\n",
    "change.set_index(change.year)\n",
    "change.head()"
   ]
  },
  {
   "cell_type": "code",
   "execution_count": 213,
   "metadata": {},
   "outputs": [
    {
     "data": {
      "text/plain": [
       "<matplotlib.text.Text at 0x10eb5be0>"
      ]
     },
     "execution_count": 213,
     "metadata": {},
     "output_type": "execute_result"
    },
    {
     "data": {
      "image/png": "[encoded data removed]",
      "text/plain": [
       "<matplotlib.figure.Figure at 0x10c8d198>"
      ]
     },
     "metadata": {},
     "output_type": "display_data"
    }
   ],
   "source": [
    "change.ix[0,['highline', 'manhattan_without_highline']].plot(kind= 'bar')\n",
    "pl.title('Median Income in Manhattan 2005 - 2009 estimates')"
   ]
  },
  {
   "cell_type": "code",
   "execution_count": 214,
   "metadata": {},
   "outputs": [
    {
     "data": {
      "text/plain": [
       "<matplotlib.text.Text at 0xefe5240>"
      ]
     },
     "execution_count": 214,
     "metadata": {},
     "output_type": "execute_result"
    },
    {
     "data": {
      "image/png": "[encoded data removed]",
      "text/plain": [
       "<matplotlib.figure.Figure at 0x1079e278>"
      ]
     },
     "metadata": {},
     "output_type": "display_data"
    }
   ],
   "source": [
    "change.ix[1,['highline', 'manhattan_without_highline']].plot(kind= 'bar')\n",
    "pl.title('Median Income in Manhattan 2011 - 2015 estimates')"
   ]
  },
  {
   "cell_type": "code",
   "execution_count": 215,
   "metadata": {},
   "outputs": [
    {
     "data": {
      "text/html": [
       "<div>\n",
       "<table border=\"1\" class=\"dataframe\">\n",
       "  <thead>\n",
       "    <tr style=\"text-align: right;\">\n",
       "      <th></th>\n",
       "      <th>2009</th>\n",
       "      <th>2015</th>\n",
       "    </tr>\n",
       "  </thead>\n",
       "  <tbody>\n",
       "    <tr>\n",
       "      <th>highline</th>\n",
       "      <td>66992.909091</td>\n",
       "      <td>90892.181818</td>\n",
       "    </tr>\n",
       "    <tr>\n",
       "      <th>manhattan without highline</th>\n",
       "      <td>62668.143426</td>\n",
       "      <td>69522.832669</td>\n",
       "    </tr>\n",
       "  </tbody>\n",
       "</table>\n",
       "</div>"
      ],
      "text/plain": [
       "                                    2009          2015\n",
       "highline                    66992.909091  90892.181818\n",
       "manhattan without highline  62668.143426  69522.832669"
      ]
     },
     "execution_count": 215,
     "metadata": {},
     "output_type": "execute_result"
    }
   ],
   "source": [
    "somechange = change.T\n",
    "somechange.rename(columns={0 : '2009', 1 : '2015'}, inplace=True)\n",
    "somechange"
   ]
  },
  {
   "cell_type": "code",
   "execution_count": 216,
   "metadata": {},
   "outputs": [
    {
     "data": {
      "text/plain": [
       "<matplotlib.text.Text at 0x112c8ac8>"
      ]
     },
     "execution_count": 216,
     "metadata": {},
     "output_type": "execute_result"
    },
    {
     "data": {
      "image/png": "[encoded data removed]",
      "text/plain": [
       "<matplotlib.figure.Figure at 0x110fa160>"
      ]
     },
     "metadata": {},
     "output_type": "display_data"
    }
   ],
   "source": [
    "somechange.ix[0, ['2009', '2015']].plot(kind = 'bar')\n",
    "pl.title('Highline')"
   ]
  },
  {
   "cell_type": "code",
   "execution_count": 217,
   "metadata": {},
   "outputs": [
    {
     "data": {
      "text/plain": [
       "<matplotlib.text.Text at 0x113c9f60>"
      ]
     },
     "execution_count": 217,
     "metadata": {},
     "output_type": "execute_result"
    },
    {
     "data": {
      "image/png": "[encoded data removed]",
      "text/plain": [
       "<matplotlib.figure.Figure at 0x11273f98>"
      ]
     },
     "metadata": {},
     "output_type": "display_data"
    }
   ],
   "source": [
    "somechange.ix[1, ['2009', '2015']].plot(kind = 'bar')\n",
    "pl.title('Highline')"
   ]
  },
  {
   "cell_type": "code",
   "execution_count": 225,
   "metadata": {},
   "outputs": [
    {
     "data": {
      "text/plain": [
       "<matplotlib.text.Text at 0x1213f7b8>"
      ]
     },
     "execution_count": 225,
     "metadata": {},
     "output_type": "execute_result"
    },
    {
     "data": {
      "image/png": "[encoded data removed]",
      "text/plain": [
       "<matplotlib.figure.Figure at 0x11fbfe48>"
      ]
     },
     "metadata": {},
     "output_type": "display_data"
    }
   ],
   "source": [
    "somechange.plot(kind = 'bar')\n",
    "locs, labels = pl.xticks()\n",
    "pl.setp(labels, rotation=0)\n",
    "pl.suptitle('Comparision of median income between highline neighbourhood and the rest of manhattan', fontsize = 14)"
   ]
  }
 ],
 "metadata": {
  "kernelspec": {
   "display_name": "Python 3",
   "language": "python",
   "name": "python3"
  },
  "language_info": {
   "codemirror_mode": {
    "name": "ipython",
    "version": 3
   },
   "file_extension": ".py",
   "mimetype": "text/x-python",
   "name": "python",
   "nbconvert_exporter": "python",
   "pygments_lexer": "ipython3",
   "version": "3.6.1"
  }
 },
 "nbformat": 4,
 "nbformat_minor": 1
}
